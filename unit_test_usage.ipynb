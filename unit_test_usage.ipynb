{
 "cells": [
  {
   "cell_type": "markdown",
   "metadata": {},
   "source": [
    "## Steps for building waypoint graph for CARLA\n",
    "\n",
    "\n",
    "### First Iteration\n",
    "1. Generate original graph (version 0) from build_map_graph.py\n",
    "2. Use graph_search.py to evaluate every points' path to goal point. It will store the points that cannot found the path to goal point using original version of graph\n",
    "3. The points that cannot found the path to goal will be store in {Town}_not_found.txt\n",
    "\n",
    "\n",
    "### Second Iteration\n",
    "1. Run unit_test_usage.ipynb, and input \"town name\" and \"each case in the {Town}_not_found.txt\"\n",
    "    - If path found:\n",
    "        - Path will automatically add to the graph\n",
    "    - If path not found:\n",
    "        - (Option 1) Run manual_build.py to manually add new edge to the graph\n",
    "        - (Option 2) If the distance between start and end is far, use manual_build.py to find the middle point, then use manual_add.py to find the path from \"start to middle\" and \"middle to end\"\n",
    "2. Next\n",
    "    - (Option 1) Keep Iterating through each testcase until solving every test case in {Town}_not_found.txt\n",
    "    - (Option 2) Rerun graph_search.py to evaluate every points' path to goal point. Generate new {Town}_not_found.txt"
   ]
  },
  {
   "cell_type": "code",
   "execution_count": 4,
   "metadata": {},
   "outputs": [],
   "source": [
    "import networkx as nx\n",
    "import numpy as np\n",
    "import cv2\n",
    "import json\n",
    "import networkx as nx\n",
    "import re\n",
    "import argparse\n",
    "import glob\n",
    "import os\n",
    "\n",
    "from route_generator import iter_all_white_points, draw_waypoint, rdp_algorithm, recorded_find_path\n",
    "from add_path_to_graph import add_path, read_adjlist_with_tuples\n",
    "\n",
    "##################### Input Town number #####################\n",
    "\n",
    "town = int(input(\"Enter town number: 1, 2, 3, or 10\"))\n",
    "\n",
    "if town == 10:\n",
    "    waypoint_map = cv2.imread(\"./waypoint_maps/Town10HD.png\", 1)\n",
    "    town_name = \"Town10HD\"\n",
    "else:\n",
    "    town_name = f\"Town0{town}\"\n",
    "    waypoint_map = cv2.imread(f\"./waypoint_maps/{town_name}.png\", 1)\n"
   ]
  },
  {
   "cell_type": "code",
   "execution_count": 5,
   "metadata": {},
   "outputs": [
    {
     "name": "stdout",
     "output_type": "stream",
     "text": [
      "graph_list/Town01\\1_graph_v0.adjlist\n",
      "0\n",
      "(547, 645)\n",
      "(3873, 1344)\n"
     ]
    }
   ],
   "source": [
    "##################### Read latest graph list of the given town #####################\n",
    "\n",
    "list_of_files = glob.glob(f'graph_list/{town_name}/*') # * means all if need specific format then *.csv\n",
    "latest_file = max(list_of_files, key=os.path.getctime)\n",
    "\n",
    "\n",
    "if town == 10:\n",
    "    index = int(latest_file[30:-8])\n",
    "    new_file_name = latest_file[:30] + str(index+1) + latest_file[-8:]\n",
    "else:\n",
    "    index = int(latest_file[27:-8])\n",
    "    new_file_name = latest_file[:27] + str(index+1) + latest_file[-8:]\n",
    "\n",
    "G = read_adjlist_with_tuples(latest_file)\n",
    "\n",
    "\n",
    "##################### Input line in the {town}_not_found.txt #####################\n",
    "\n",
    "start_end_string = input(\"Enter each list with start-end point in the not found list\")\n",
    "\n",
    "# Example input:\n",
    "# [(547, 645), (3871, 1346), 'Forward', '45_45_196']\n",
    "\n",
    "\n",
    "entries = re.findall(r'\\([^)]+\\)', start_end_string)\n",
    "start = entries[0]\n",
    "start = start.strip('() ')\n",
    "x0, y0 =  map(int, start.split(','))\n",
    "first_tuple = tuple([x0, y0])\n",
    "\n",
    "end = entries[1]\n",
    "end = end.strip('() ')\n",
    "x, y =  map(int, end.split(','))\n",
    "second_tuple = tuple([x, y])\n",
    "\n",
    "print(latest_file)\n",
    "print(index)\n",
    "print(first_tuple)\n",
    "print(second_tuple)"
   ]
  },
  {
   "cell_type": "code",
   "execution_count": 6,
   "metadata": {},
   "outputs": [
    {
     "name": "stdout",
     "output_type": "stream",
     "text": [
      "Start point: (547, 645)\n",
      "End point: (3873, 1344)\n",
      "Finding Path...\n",
      "Not found!!!\n",
      "[[(547, 645), (547, 650), (547, 654), (547, 658), (547, 662), (547, 666), (547, 670), (547, 674), (547, 678), (547, 682), (547, 686), (547, 690), (547, 694), (547, 698), (547, 702), (547, 706), (547, 710), (547, 714), (547, 718), (547, 722), (547, 726), (547, 730), (547, 734), (547, 738), (547, 742), (547, 746), (547, 750), (547, 754), (547, 758), (547, 762), (547, 766), (547, 770), (547, 774), (547, 778), (547, 782), (547, 786), (547, 790), (547, 794), (547, 798), (547, 802), (547, 806), (547, 810), (547, 814), (547, 818), (547, 822), (547, 826), (547, 830), (547, 834), (547, 838), (547, 842), (547, 846), (547, 850), (547, 854), (547, 858), (547, 862), (547, 866), (547, 870), (547, 874), (547, 878), (547, 882), (547, 886), (547, 890), (547, 894), (547, 898), (547, 902), (547, 906), (547, 910), (547, 914), (547, 918), (547, 922), (547, 926), (547, 930), (547, 934), (547, 938), (547, 942), (547, 946), (547, 950), (547, 954), (547, 958), (547, 962), (547, 966), (547, 970), (547, 974), (547, 978), (547, 982), (547, 986), (547, 990), (547, 994), (547, 998), (547, 1002), (547, 1006), (547, 1010), (547, 1014), (547, 1018), (547, 1022), (547, 1026), (547, 1030), (547, 1034), (547, 1038), (547, 1042), (547, 1046), (547, 1050), (547, 1054), (547, 1058), (547, 1062), (547, 1066), (547, 1070), (547, 1074), (547, 1078), (547, 1082), (547, 1086), (547, 1090), (547, 1094), (547, 1098), (547, 1102), (547, 1106), (547, 1110), (547, 1114), (547, 1118), (547, 1122), (547, 1126), (547, 1130), (547, 1134), (547, 1138), (547, 1142), (547, 1146), (547, 1150), (547, 1154), (547, 1158), (547, 1162), (547, 1166), (547, 1170), (547, 1174), (547, 1178), (547, 1182), (547, 1186), (547, 1190), (547, 1194), (547, 1198), (547, 1202), (547, 1206), (547, 1210), (547, 1214), (547, 1218), (547, 1222), (547, 1226), (547, 1230), (547, 1234), (547, 1238), (547, 1242), (547, 1246), (547, 1250), (547, 1254), (547, 1258), (547, 1262), (547, 1266), (547, 1270), (547, 1274), (547, 1278), (547, 1282), (547, 1286), (547, 1290), (547, 1294), (547, 1298), (547, 1302), (547, 1306), (547, 1310), (547, 1314), (547, 1318), (547, 1322), (547, 1326), (547, 1330), (547, 1334), (547, 1338), (547, 1342)]]\n"
     ]
    }
   ],
   "source": [
    "all_whites_pos = iter_all_white_points(waypoint_map)\n",
    "start = first_tuple\n",
    "end = second_tuple\n",
    "\n",
    "\n",
    "new_img = waypoint_map.copy()\n",
    "new_img[start[0]][start[1]] = np.array([0, 0, 255])\n",
    "new_img[end[0]][end[1]] = np.array([0, 0, 255])\n",
    "\n",
    "cv2.circle(new_img, start[::-1], radius=5, color=(0, 0, 255), thickness=5)\n",
    "cv2.circle(new_img, end[::-1], radius=5, color=(255, 255, 0), thickness=5)\n",
    "\n",
    "\n",
    "print(\"Start point:\", start)\n",
    "print(\"End point:\", end)\n",
    "print(\"Finding Path...\")\n",
    "# final_path = find_path(start, end, all_whites_pos)\n",
    "flag, final_path = recorded_find_path(start, end, all_whites_pos, \"Forward\", True)\n",
    "\n",
    "##### Path not found #####\n",
    "if flag == False:\n",
    "    print(\"Not found!!!\")\n",
    "    print(final_path)\n",
    "    for i, j in final_path[0]:\n",
    "        new_img[i][j] = np.array([255, 255, 0])\n",
    "    \n",
    "    \n",
    "    cv2.imwrite(f\"test/not_found/test__{start}_{end}.png\", new_img)\n",
    "else:\n",
    "    print(\"found!!!\")\n",
    "    print(final_path[0])\n",
    "    print(\"Adding to the graph list...\")\n",
    "    \n",
    "    add_path(G, final_path, new_file_name)\n",
    "    print(new_file_name, \"Store!\")\n",
    "    \n",
    "    draw_img = draw_waypoint(waypoint_map, start, end, final_path[0])\n",
    "    rdp_img, _ = rdp_algorithm(draw_img, final_path[0])\n",
    "    cv2.imwrite(f\"test/found/test__{start}_{end}.png\", new_img)\n",
    "\n"
   ]
  },
  {
   "cell_type": "code",
   "execution_count": 7,
   "metadata": {},
   "outputs": [
    {
     "name": "stdout",
     "output_type": "stream",
     "text": [
      "[(2870, 1976), (2874, 1978), (2904, 1991), (3006, 2010), (3112, 2014), (3220, 2014), (3328, 2015), (3436, 2016), (3544, 2017), (3564, 2017)]\n"
     ]
    }
   ],
   "source": [
    "############### Quick test for other start point with the same goal point\n",
    "\n",
    "start, end = (2870, 1976), (3564, 2017)\n",
    "fp = nx.shortest_path(G,  start,  end)\n",
    "print(fp)\n"
   ]
  },
  {
   "cell_type": "code",
   "execution_count": null,
   "metadata": {},
   "outputs": [],
   "source": []
  }
 ],
 "metadata": {
  "kernelspec": {
   "display_name": "Python 3",
   "language": "python",
   "name": "python3"
  },
  "language_info": {
   "codemirror_mode": {
    "name": "ipython",
    "version": 3
   },
   "file_extension": ".py",
   "mimetype": "text/x-python",
   "name": "python",
   "nbconvert_exporter": "python",
   "pygments_lexer": "ipython3",
   "version": "3.10.5"
  }
 },
 "nbformat": 4,
 "nbformat_minor": 2
}
