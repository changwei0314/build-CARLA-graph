{
 "cells": [
  {
   "cell_type": "markdown",
   "metadata": {},
   "source": [
    "## Steps for building waypoint graph for CARLA\n",
    "\n",
    "\n",
    "### First Iteration\n",
    "1. Generate original graph (version 0) from build_map_graph.py\n",
    "2. Use graph_search.py to evaluate every points' path to goal point. It will store the points that cannot found the path to goal point using original version of graph\n",
    "3. The points that cannot found the path to goal will be store in {Town}_not_found.txt\n",
    "\n",
    "\n",
    "### Second Iteration\n",
    "1. Run unit_test_usage.ipynb, and input \"town name\" and \"each case in the {Town}_not_found.txt\"\n",
    "    - If path found:\n",
    "        - Path will automatically add to the graph\n",
    "    - If path not found:\n",
    "        - (Option 1) Run manual_build.py to manually add new edge to the graph\n",
    "        - (Option 2) If the distance between start and end is far, use manual_build.py to find the middle point, then use manual_add.py to find the path from \"start to middle\" and \"middle to end\"\n",
    "2. Next\n",
    "    - (Option 1) Keep Iterating through each testcase until solving every test case in {Town}_not_found.txt\n",
    "    - (Option 2) Rerun graph_search.py to evaluate every points' path to goal point. Generate new {Town}_not_found.txt"
   ]
  },
  {
   "cell_type": "code",
   "execution_count": null,
   "metadata": {},
   "outputs": [
    {
     "ename": "",
     "evalue": "",
     "output_type": "error",
     "traceback": [
      "\u001b[1;31mThe kernel failed to start due to the missing module 'wcwidth'. Consider installing this module.\n",
      "\u001b[1;31mClick <a href='https://aka.ms/kernelFailuresMissingModule'>here</a> for more info."
     ]
    }
   ],
   "source": [
    "import networkx as nx\n",
    "import numpy as np\n",
    "import cv2\n",
    "import json\n",
    "import networkx as nx\n",
    "import re\n",
    "import argparse\n",
    "import glob\n",
    "import os\n",
    "\n",
    "from route_generator import iter_all_white_points, draw_waypoint, rdp_algorithm, recorded_find_path\n",
    "from add_path_to_graph import add_path, read_adjlist_with_tuples\n",
    "\n",
    "##################### Input Town number #####################\n",
    "\n",
    "town = int(input(\"Enter town number: 1, 2, 3, or 10\"))\n",
    "\n",
    "if town == 10:\n",
    "    waypoint_map = cv2.imread(\"./waypoint_maps/Town10HD.png\", 1)\n",
    "    town_name = \"Town10HD\"\n",
    "else:\n",
    "    town_name = f\"Town0{town}\"\n",
    "    waypoint_map = cv2.imread(f\"./waypoint_maps/{town_name}.png\", 1)\n"
   ]
  },
  {
   "cell_type": "code",
   "execution_count": 10,
   "metadata": {},
   "outputs": [
    {
     "ename": "IndexError",
     "evalue": "list index out of range",
     "output_type": "error",
     "traceback": [
      "\u001b[1;31m---------------------------------------------------------------------------\u001b[0m",
      "\u001b[1;31mIndexError\u001b[0m                                Traceback (most recent call last)",
      "\u001b[1;32mc:\\Users\\User\\Desktop\\build-CARLA-graph\\unit_test_usage.ipynb Cell 3\u001b[0m line \u001b[0;36m2\n\u001b[0;32m     <a href='vscode-notebook-cell:/c%3A/Users/User/Desktop/build-CARLA-graph/unit_test_usage.ipynb#W2sZmlsZQ%3D%3D?line=20'>21</a>\u001b[0m \u001b[39m# Example input:\u001b[39;00m\n\u001b[0;32m     <a href='vscode-notebook-cell:/c%3A/Users/User/Desktop/build-CARLA-graph/unit_test_usage.ipynb#W2sZmlsZQ%3D%3D?line=21'>22</a>\u001b[0m \u001b[39m# [(547, 645), (3871, 1346), 'Forward', '45_45_196']\u001b[39;00m\n\u001b[0;32m     <a href='vscode-notebook-cell:/c%3A/Users/User/Desktop/build-CARLA-graph/unit_test_usage.ipynb#W2sZmlsZQ%3D%3D?line=24'>25</a>\u001b[0m entries \u001b[39m=\u001b[39m re\u001b[39m.\u001b[39mfindall(\u001b[39mr\u001b[39m\u001b[39m'\u001b[39m\u001b[39m\\\u001b[39m\u001b[39m([^)]+\u001b[39m\u001b[39m\\\u001b[39m\u001b[39m)\u001b[39m\u001b[39m'\u001b[39m, start_end_string)\n\u001b[1;32m---> <a href='vscode-notebook-cell:/c%3A/Users/User/Desktop/build-CARLA-graph/unit_test_usage.ipynb#W2sZmlsZQ%3D%3D?line=25'>26</a>\u001b[0m start \u001b[39m=\u001b[39m entries[\u001b[39m0\u001b[39;49m]\n\u001b[0;32m     <a href='vscode-notebook-cell:/c%3A/Users/User/Desktop/build-CARLA-graph/unit_test_usage.ipynb#W2sZmlsZQ%3D%3D?line=26'>27</a>\u001b[0m start \u001b[39m=\u001b[39m start\u001b[39m.\u001b[39mstrip(\u001b[39m'\u001b[39m\u001b[39m() \u001b[39m\u001b[39m'\u001b[39m)\n\u001b[0;32m     <a href='vscode-notebook-cell:/c%3A/Users/User/Desktop/build-CARLA-graph/unit_test_usage.ipynb#W2sZmlsZQ%3D%3D?line=27'>28</a>\u001b[0m x0, y0 \u001b[39m=\u001b[39m  \u001b[39mmap\u001b[39m(\u001b[39mint\u001b[39m, start\u001b[39m.\u001b[39msplit(\u001b[39m'\u001b[39m\u001b[39m,\u001b[39m\u001b[39m'\u001b[39m))\n",
      "\u001b[1;31mIndexError\u001b[0m: list index out of range"
     ]
    }
   ],
   "source": [
    "##################### Read latest graph list of the given town #####################\n",
    "\n",
    "list_of_files = glob.glob(f'graph_list/{town_name}/*') # * means all if need specific format then *.csv\n",
    "latest_file = max(list_of_files, key=os.path.getctime)\n",
    "\n",
    "\n",
    "if town == 10:\n",
    "    index = int(latest_file[30:-8])\n",
    "    new_file_name = latest_file[:30] + str(index+1) + latest_file[-8:]\n",
    "else:\n",
    "    index = int(latest_file[27:-8])\n",
    "    new_file_name = latest_file[:27] + str(index+1) + latest_file[-8:]\n",
    "\n",
    "G = read_adjlist_with_tuples(latest_file)\n",
    "\n",
    "\n",
    "##################### Input line in the {town}_not_found.txt #####################\n",
    "\n",
    "start_end_string = input(\"Enter each list with start-end point in the not found list\")\n",
    "\n",
    "# Example input:\n",
    "# [(547, 645), (3871, 1346), 'Forward', '45_45_196']\n",
    "\n",
    "\n",
    "entries = re.findall(r'\\([^)]+\\)', start_end_string)\n",
    "start = entries[0]\n",
    "start = start.strip('() ')\n",
    "x0, y0 =  map(int, start.split(','))\n",
    "first_tuple = tuple([x0, y0])\n",
    "\n",
    "end = entries[1]\n",
    "end = end.strip('() ')\n",
    "x, y =  map(int, end.split(','))\n",
    "second_tuple = tuple([x, y])\n",
    "\n",
    "print(latest_file)\n",
    "print(index)\n",
    "print(first_tuple)\n",
    "print(second_tuple)"
   ]
  },
  {
   "cell_type": "code",
   "execution_count": 11,
   "metadata": {},
   "outputs": [
    {
     "name": "stdout",
     "output_type": "stream",
     "text": [
      "Start point: (591, 2557)\n",
      "End point: (4682, 3450)\n",
      "Finding Path...\n"
     ]
    },
    {
     "ename": "KeyboardInterrupt",
     "evalue": "",
     "output_type": "error",
     "traceback": [
      "\u001b[1;31m---------------------------------------------------------------------------\u001b[0m",
      "\u001b[1;31mKeyboardInterrupt\u001b[0m                         Traceback (most recent call last)",
      "\u001b[1;32mc:\\Users\\User\\Desktop\\build-CARLA-graph\\unit_test_usage.ipynb Cell 4\u001b[0m line \u001b[0;36m1\n\u001b[0;32m     <a href='vscode-notebook-cell:/c%3A/Users/User/Desktop/build-CARLA-graph/unit_test_usage.ipynb#W3sZmlsZQ%3D%3D?line=15'>16</a>\u001b[0m \u001b[39mprint\u001b[39m(\u001b[39m\"\u001b[39m\u001b[39mFinding Path...\u001b[39m\u001b[39m\"\u001b[39m)\n\u001b[0;32m     <a href='vscode-notebook-cell:/c%3A/Users/User/Desktop/build-CARLA-graph/unit_test_usage.ipynb#W3sZmlsZQ%3D%3D?line=16'>17</a>\u001b[0m \u001b[39m# final_path = find_path(start, end, all_whites_pos)\u001b[39;00m\n\u001b[1;32m---> <a href='vscode-notebook-cell:/c%3A/Users/User/Desktop/build-CARLA-graph/unit_test_usage.ipynb#W3sZmlsZQ%3D%3D?line=17'>18</a>\u001b[0m flag, final_path \u001b[39m=\u001b[39m recorded_find_path(start, end, all_whites_pos, \u001b[39m\"\u001b[39;49m\u001b[39m\"\u001b[39;49m, \u001b[39mTrue\u001b[39;49;00m)\n\u001b[0;32m     <a href='vscode-notebook-cell:/c%3A/Users/User/Desktop/build-CARLA-graph/unit_test_usage.ipynb#W3sZmlsZQ%3D%3D?line=19'>20</a>\u001b[0m \u001b[39m##### Path not found #####\u001b[39;00m\n\u001b[0;32m     <a href='vscode-notebook-cell:/c%3A/Users/User/Desktop/build-CARLA-graph/unit_test_usage.ipynb#W3sZmlsZQ%3D%3D?line=20'>21</a>\u001b[0m \u001b[39mif\u001b[39;00m flag \u001b[39m==\u001b[39m \u001b[39mFalse\u001b[39;00m:\n",
      "File \u001b[1;32mc:\\Users\\User\\Desktop\\build-CARLA-graph\\route_generator.py:127\u001b[0m, in \u001b[0;36mrecorded_find_path\u001b[1;34m(start, end, white_cnt, action, global_search)\u001b[0m\n\u001b[0;32m    123\u001b[0m next_dis2end \u001b[39m=\u001b[39m ((white[\u001b[39m0\u001b[39m] \u001b[39m-\u001b[39m end[\u001b[39m0\u001b[39m])\u001b[39m*\u001b[39m\u001b[39m*\u001b[39m\u001b[39m2\u001b[39m \u001b[39m+\u001b[39m\n\u001b[0;32m    124\u001b[0m                 (white[\u001b[39m1\u001b[39m] \u001b[39m-\u001b[39m end[\u001b[39m1\u001b[39m])\u001b[39m*\u001b[39m\u001b[39m*\u001b[39m\u001b[39m2\u001b[39m)\u001b[39m*\u001b[39m\u001b[39m*\u001b[39m\u001b[39m0.5\u001b[39m\n\u001b[0;32m    126\u001b[0m path \u001b[39m=\u001b[39m parent_path\u001b[39m.\u001b[39mcopy()\n\u001b[1;32m--> 127\u001b[0m path\u001b[39m.\u001b[39;49mappend(white)\n\u001b[0;32m    129\u001b[0m \u001b[39mif\u001b[39;00m dis \u001b[39m<\u001b[39m DISTANCE_THRESHOLD \u001b[39mand\u001b[39;00m next_dis2end \u001b[39m<\u001b[39m \u001b[39m7\u001b[39m:  \u001b[39m# town 4: 5 # Town10: 7\u001b[39;00m\n\u001b[0;32m    130\u001b[0m     \u001b[39mprint\u001b[39m(\u001b[39m\"\u001b[39m\u001b[39mGet!!!\u001b[39m\u001b[39m\"\u001b[39m)\n",
      "\u001b[1;31mKeyboardInterrupt\u001b[0m: "
     ]
    }
   ],
   "source": [
    "all_whites_pos = iter_all_white_points(waypoint_map)\n",
    "start = first_tuple\n",
    "end = second_tuple\n",
    "\n",
    "\n",
    "new_img = waypoint_map.copy()\n",
    "new_img[start[0]][start[1]] = np.array([0, 0, 255])\n",
    "new_img[end[0]][end[1]] = np.array([0, 0, 255])\n",
    "\n",
    "cv2.circle(new_img, start[::-1], radius=5, color=(0, 0, 255), thickness=5)\n",
    "cv2.circle(new_img, end[::-1], radius=5, color=(255, 255, 0), thickness=5)\n",
    "\n",
    "\n",
    "print(\"Start point:\", start)\n",
    "print(\"End point:\", end)\n",
    "print(\"Finding Path...\")\n",
    "# final_path = find_path(start, end, all_whites_pos)\n",
    "flag, final_path = recorded_find_path(start, end, all_whites_pos, \"\", True)\n",
    "\n",
    "##### Path not found #####\n",
    "if flag == False:\n",
    "    print(\"Not found!!!\")\n",
    "    print(final_path)\n",
    "    for i, j in final_path[0]:\n",
    "        new_img[i][j] = np.array([255, 255, 0])\n",
    "    \n",
    "    \n",
    "    cv2.imwrite(f\"test/not_found/test__{start}_{end}.png\", new_img)\n",
    "else:\n",
    "    print(\"found!!!\")\n",
    "    print(final_path[0])\n",
    "    print(\"Adding to the graph list...\")\n",
    "    \n",
    "    add_path(G, final_path, new_file_name)\n",
    "    print(new_file_name, \"Store!\")\n",
    "    \n",
    "    draw_img = draw_waypoint(waypoint_map, start, end, final_path[0])\n",
    "    rdp_img, _ = rdp_algorithm(draw_img, final_path[0])\n",
    "    cv2.imwrite(f\"test/found/test__{start}_{end}.png\", new_img)\n",
    "\n"
   ]
  },
  {
   "cell_type": "code",
   "execution_count": 7,
   "metadata": {},
   "outputs": [
    {
     "name": "stdout",
     "output_type": "stream",
     "text": [
      "[(2870, 1976), (2874, 1978), (2904, 1991), (3006, 2010), (3112, 2014), (3220, 2014), (3328, 2015), (3436, 2016), (3544, 2017), (3564, 2017)]\n"
     ]
    }
   ],
   "source": [
    "############### Quick test for other start point with the same goal point\n",
    "\n",
    "start, end = (2870, 1976), (3564, 2017)\n",
    "fp = nx.shortest_path(G,  start,  end)\n",
    "print(fp)\n"
   ]
  },
  {
   "cell_type": "code",
   "execution_count": null,
   "metadata": {},
   "outputs": [],
   "source": []
  }
 ],
 "metadata": {
  "kernelspec": {
   "display_name": "Python 3",
   "language": "python",
   "name": "python3"
  },
  "language_info": {
   "codemirror_mode": {
    "name": "ipython",
    "version": 3
   },
   "file_extension": ".py",
   "mimetype": "text/x-python",
   "name": "python",
   "nbconvert_exporter": "python",
   "pygments_lexer": "ipython3",
   "version": "3.10.5"
  }
 },
 "nbformat": 4,
 "nbformat_minor": 2
}
