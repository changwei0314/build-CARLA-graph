{
 "cells": [
  {
   "cell_type": "markdown",
   "metadata": {},
   "source": [
    "## Steps for building waypoint graph for CARLA\n",
    "\n",
    "\n",
    "### First Iteration\n",
    "1. Generate original graph (version 0) from build_map_graph.py\n",
    "2. Use graph_search.py to evaluate every points' path to goal point. It will store the points that cannot found the path to goal point using original version of graph\n",
    "3. The points that cannot found the path to goal will be store in {Town}_not_found.txt\n",
    "\n",
    "\n",
    "### Second Iteration\n",
    "1. Run unit_test_usage.ipynb, and input \"town name\" and \"each case in the {Town}_not_found.txt\"\n",
    "    - If path found:\n",
    "        - Path will automatically add to the graph\n",
    "    - If path not found:\n",
    "        - (Option 1) Run manual_build.py to manually add new edge to the graph\n",
    "        - (Option 2) If the distance between start and end is far, use manual_build.py to find the middle point, then use manual_add.py to find the path from \"start to middle\" and \"middle to end\"\n",
    "2. Next\n",
    "    - (Option 1) Keep Iterating through each testcase until solving every test case in {Town}_not_found.txt\n",
    "    - (Option 2) Rerun graph_search.py to evaluate every points' path to goal point. Generate new {Town}_not_found.txt"
   ]
  },
  {
   "cell_type": "code",
   "execution_count": 1,
   "metadata": {},
   "outputs": [],
   "source": [
    "import networkx as nx\n",
    "import numpy as np\n",
    "import cv2\n",
    "import json\n",
    "import networkx as nx\n",
    "import re\n",
    "import argparse\n",
    "import glob\n",
    "import os\n",
    "\n",
    "from route_generator import iter_all_white_points, draw_waypoint, rdp_algorithm, recorded_find_path\n",
    "from add_path_to_graph import add_path, read_adjlist_with_tuples\n",
    "\n",
    "##################### Input Town number #####################\n",
    "\n",
    "town = int(input(\"Enter town number: 1, 2, 3, or 10\"))\n",
    "\n",
    "if town == 10:\n",
    "    waypoint_map = cv2.imread(\"./waypoint_maps/Town10HD.png\", 1)\n",
    "    town_name = \"Town10HD\"\n",
    "else:\n",
    "    town_name = f\"Town0{town}\"\n",
    "    waypoint_map = cv2.imread(f\"./waypoint_maps/{town_name}.png\", 1)\n"
   ]
  },
  {
   "cell_type": "code",
   "execution_count": 2,
   "metadata": {},
   "outputs": [
    {
     "name": "stdout",
     "output_type": "stream",
     "text": [
      "graph_list/Town02\\2_graph_v0.adjlist\n",
      "0\n",
      "(667, 587)\n",
      "(1294, 2517)\n"
     ]
    }
   ],
   "source": [
    "##################### Read latest graph list of the given town #####################\n",
    "\n",
    "list_of_files = glob.glob(f'graph_list/{town_name}/*') # * means all if need specific format then *.csv\n",
    "latest_file = max(list_of_files, key=os.path.getctime)\n",
    "\n",
    "\n",
    "if town == 10:\n",
    "    index = int(latest_file[30:-8])\n",
    "    new_file_name = latest_file[:30] + str(index+1) + latest_file[-8:]\n",
    "else:\n",
    "    index = int(latest_file[27:-8])\n",
    "    new_file_name = latest_file[:27] + str(index+1) + latest_file[-8:]\n",
    "\n",
    "G = read_adjlist_with_tuples(latest_file)\n",
    "\n",
    "\n",
    "##################### Input line in the {town}_not_found.txt #####################\n",
    "\n",
    "start_end_string = input(\"Enter each list with start-end point in the not found list\")\n",
    "\n",
    "# Example input:\n",
    "# [(547, 645), (3871, 1346), 'Forward', '45_45_196']\n",
    "\n",
    "\n",
    "entries = re.findall(r'\\([^)]+\\)', start_end_string)\n",
    "start = entries[0]\n",
    "start = start.strip('() ')\n",
    "x0, y0 =  map(int, start.split(','))\n",
    "first_tuple = tuple([x0, y0])\n",
    "\n",
    "end = entries[1]\n",
    "end = end.strip('() ')\n",
    "x, y =  map(int, end.split(','))\n",
    "second_tuple = tuple([x, y])\n",
    "\n",
    "print(latest_file)\n",
    "print(index)\n",
    "print(first_tuple)\n",
    "print(second_tuple)"
   ]
  },
  {
   "cell_type": "code",
   "execution_count": 3,
   "metadata": {},
   "outputs": [
    {
     "name": "stdout",
     "output_type": "stream",
     "text": [
      "Start point: (667, 587)\n",
      "End point: (1294, 2517)\n",
      "Finding Path...\n",
      "Not found!!!\n",
      "[[(667, 587), (671, 587), (675, 587), (679, 587), (683, 587), (687, 587), (691, 587), (695, 587), (699, 587), (703, 587), (707, 587), (711, 587), (715, 587), (719, 587), (723, 587), (727, 587), (731, 587), (735, 587), (739, 587), (743, 587), (747, 587), (751, 587), (755, 587), (759, 587), (763, 587), (767, 587), (771, 587), (775, 587), (779, 587), (783, 587), (787, 587), (791, 587), (795, 587), (799, 587), (803, 587), (807, 587), (811, 586), (815, 586), (819, 586), (823, 586), (827, 586), (831, 586), (835, 586), (839, 586), (843, 586), (847, 586), (851, 586), (855, 586), (859, 586), (863, 586), (867, 586), (871, 586), (875, 586), (879, 586), (883, 586), (887, 586), (891, 586), (895, 586), (899, 586), (903, 586), (907, 586), (911, 586), (915, 586), (919, 586), (923, 586), (927, 586), (931, 586), (935, 586), (939, 586), (943, 586), (947, 586), (951, 586), (955, 586), (959, 586), (963, 586), (967, 586), (971, 586), (975, 586), (979, 586), (983, 586), (987, 586), (991, 586), (995, 586), (999, 586), (1003, 586), (1007, 586), (1011, 586), (1015, 586), (1019, 586), (1023, 586), (1027, 586), (1031, 586), (1035, 586), (1039, 586), (1043, 586), (1047, 586), (1051, 586), (1055, 586), (1059, 586), (1063, 586), (1067, 586), (1071, 586), (1075, 586), (1079, 586), (1083, 586), (1087, 586), (1091, 586), (1095, 586), (1099, 586), (1103, 586), (1107, 586), (1111, 586), (1115, 586), (1119, 586), (1123, 586), (1127, 586), (1131, 586), (1135, 586), (1139, 586), (1143, 586), (1147, 586), (1151, 586), (1155, 586), (1159, 586), (1163, 586), (1167, 586), (1171, 586), (1175, 586), (1179, 586), (1183, 586), (1187, 586), (1191, 586), (1195, 586), (1199, 586), (1203, 586), (1207, 586), (1211, 586), (1215, 586), (1219, 586), (1223, 586), (1227, 586), (1231, 586), (1235, 586), (1239, 586), (1243, 586), (1247, 586), (1251, 586), (1255, 586), (1259, 586), (1263, 586), (1267, 586), (1271, 586), (1275, 586), (1279, 586), (1283, 586), (1287, 586), (1291, 586), (1295, 586)]]\n"
     ]
    }
   ],
   "source": [
    "all_whites_pos = iter_all_white_points(waypoint_map)\n",
    "start = first_tuple\n",
    "end = second_tuple\n",
    "\n",
    "\n",
    "new_img = waypoint_map.copy()\n",
    "new_img[start[0]][start[1]] = np.array([0, 0, 255])\n",
    "new_img[end[0]][end[1]] = np.array([0, 0, 255])\n",
    "\n",
    "cv2.circle(new_img, start[::-1], radius=5, color=(0, 0, 255), thickness=5)\n",
    "cv2.circle(new_img, end[::-1], radius=5, color=(255, 255, 0), thickness=5)\n",
    "\n",
    "\n",
    "print(\"Start point:\", start)\n",
    "print(\"End point:\", end)\n",
    "print(\"Finding Path...\")\n",
    "# final_path = find_path(start, end, all_whites_pos)\n",
    "flag, final_path = recorded_find_path(start, end, all_whites_pos, \"Forward\", True)\n",
    "\n",
    "##### Path not found #####\n",
    "if flag == False:\n",
    "    print(\"Not found!!!\")\n",
    "    print(final_path)\n",
    "    for i, j in final_path[0]:\n",
    "        new_img[i][j] = np.array([255, 255, 0])\n",
    "    \n",
    "    \n",
    "    cv2.imwrite(f\"test/not_found/test__{start}_{end}.png\", new_img)\n",
    "else:\n",
    "    print(\"found!!!\")\n",
    "    print(final_path[0])\n",
    "    print(\"Adding to the graph list...\")\n",
    "    \n",
    "    add_path(G, final_path, new_file_name)\n",
    "    print(new_file_name, \"Store!\")\n",
    "    \n",
    "    draw_img = draw_waypoint(waypoint_map, start, end, final_path[0])\n",
    "    rdp_img, _ = rdp_algorithm(draw_img, final_path[0])\n",
    "    cv2.imwrite(f\"test/found/test__{start}_{end}.png\", new_img)\n",
    "\n"
   ]
  },
  {
   "cell_type": "code",
   "execution_count": 7,
   "metadata": {},
   "outputs": [
    {
     "name": "stdout",
     "output_type": "stream",
     "text": [
      "[(2870, 1976), (2874, 1978), (2904, 1991), (3006, 2010), (3112, 2014), (3220, 2014), (3328, 2015), (3436, 2016), (3544, 2017), (3564, 2017)]\n"
     ]
    }
   ],
   "source": [
    "############### Quick test for other start point with the same goal point\n",
    "\n",
    "start, end = (2870, 1976), (3564, 2017)\n",
    "fp = nx.shortest_path(G,  start,  end)\n",
    "print(fp)\n"
   ]
  },
  {
   "cell_type": "code",
   "execution_count": null,
   "metadata": {},
   "outputs": [],
   "source": []
  }
 ],
 "metadata": {
  "kernelspec": {
   "display_name": "Python 3",
   "language": "python",
   "name": "python3"
  },
  "language_info": {
   "codemirror_mode": {
    "name": "ipython",
    "version": 3
   },
   "file_extension": ".py",
   "mimetype": "text/x-python",
   "name": "python",
   "nbconvert_exporter": "python",
   "pygments_lexer": "ipython3",
   "version": "3.10.5"
  }
 },
 "nbformat": 4,
 "nbformat_minor": 2
}
