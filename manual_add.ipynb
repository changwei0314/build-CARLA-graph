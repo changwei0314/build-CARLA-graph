{
 "cells": [
  {
   "cell_type": "code",
   "execution_count": 8,
   "metadata": {},
   "outputs": [],
   "source": [
    "import networkx as nx\n",
    "import numpy as np\n",
    "import cv2\n",
    "import json\n",
    "import networkx as nx\n",
    "import re\n",
    "import argparse\n",
    "import glob\n",
    "import os\n",
    "\n",
    "from route_generator import iter_all_white_points, draw_waypoint, rdp_algorithm, recorded_find_path\n",
    "from add_path_to_graph import add_path, read_adjlist_with_tuples\n",
    "\n",
    "##################### Input Town number #####################\n",
    "\n",
    "town = input(\"Enter town number: 1, 2, 3, or 10\")\n",
    "\n",
    "if town == 10:\n",
    "    waypoint_map = cv2.imread(\"./waypoint_maps/Town10HD.png\", 1)\n",
    "    town_name = \"Town10HD\"\n",
    "else:\n",
    "    town_name = f\"Town0{town}\"\n",
    "    waypoint_map = cv2.imread(f\"./waypoint_maps/{town_name}.png\", 1)\n",
    "\n",
    "\n",
    "##################### Read latest graph list of the given town #####################\n",
    "\n",
    "list_of_files = glob.glob(f'graph_list/{town_name}/*') # * means all if need specific format then *.csv\n",
    "latest_file = max(list_of_files, key=os.path.getctime)\n",
    "file_name = latest_file[18:]\n",
    "\n",
    "index = int(latest_file[27:-8])\n",
    "new_file_name = latest_file[:27] + str(index+1) + latest_file[-8:]\n",
    "\n",
    "G = read_adjlist_with_tuples(latest_file)"
   ]
  },
  {
   "cell_type": "code",
   "execution_count": 9,
   "metadata": {},
   "outputs": [],
   "source": [
    "start, end = (560, 599), (562, 594)"
   ]
  },
  {
   "cell_type": "code",
   "execution_count": 6,
   "metadata": {},
   "outputs": [
    {
     "name": "stdout",
     "output_type": "stream",
     "text": [
      "Start point: (560, 599)\n",
      "End point: (562, 594)\n",
      "Finding Path...\n",
      "[(560, 599)]\n",
      "Get!!!\n",
      "found!!!\n",
      "[(560, 599), (562, 594)]\n",
      "Adding to the graph list...\n",
      "0\n",
      "Add\n",
      "1\n",
      "2\n",
      "[(560, 599), (562, 594)]\n",
      "graph_list/Town01\\1_graph_v1.adjlist Store!\n"
     ]
    }
   ],
   "source": [
    "if start == (0,0) or end == (0,0):\n",
    "    print(\"Didn't change to your point!!!!!!!!\")\n",
    "\n",
    "all_whites_pos = iter_all_white_points(waypoint_map)\n",
    "\n",
    "new_img = waypoint_map.copy()\n",
    "new_img[start[0]][start[1]] = np.array([0, 0, 255])\n",
    "new_img[end[0]][end[1]] = np.array([0, 0, 255])\n",
    "\n",
    "cv2.circle(new_img, start[::-1], radius=5, color=(255, 0, 0), thickness=5)\n",
    "cv2.circle(new_img, end[::-1], radius=5, color=(0, 255, 0), thickness=5)\n",
    "\n",
    "\n",
    "print(\"Start point:\", start)\n",
    "print(\"End point:\", end)\n",
    "print(\"Finding Path...\")\n",
    "# final_path = find_path(start, end, all_whites_pos)\n",
    "flag, final_path = recorded_find_path(start, end, all_whites_pos, \"Forward\", True)\n",
    "\n",
    "##### Path not found #####\n",
    "if flag == False:\n",
    "    print(\"Not found!!!\")\n",
    "    print(final_path)\n",
    "    for i, j in final_path[0]:\n",
    "        new_img[i][j] = np.array([255, 255, 0])\n",
    "    \n",
    "    draw_img = draw_waypoint(waypoint_map, start, end, final_path[0])\n",
    "    rdp_img, _ = rdp_algorithm(draw_img, final_path[0])\n",
    "    cv2.imwrite(f\"test/not_found/test__{start}_{end}.png\", new_img)\n",
    "else:\n",
    "    print(\"found!!!\")\n",
    "    print(final_path[0])\n",
    "    print(\"Adding to the graph list...\")\n",
    "    \n",
    "    add_path(G, final_path, new_file_name)\n",
    "    print(new_file_name, \"Store!\")\n",
    "    cv2.imwrite(f\"test/found/test__{start}_{end}.png\", new_img)"
   ]
  },
  {
   "cell_type": "code",
   "execution_count": 10,
   "metadata": {},
   "outputs": [
    {
     "ename": "NodeNotFound",
     "evalue": "Either source (560, 599) or target (562, 594) is not in G",
     "output_type": "error",
     "traceback": [
      "\u001b[1;31m---------------------------------------------------------------------------\u001b[0m",
      "\u001b[1;31mNodeNotFound\u001b[0m                              Traceback (most recent call last)",
      "\u001b[1;32mc:\\Users\\User\\Desktop\\graph\\manual_add.ipynb Cell 4\u001b[0m line \u001b[0;36m3\n\u001b[0;32m      <a href='vscode-notebook-cell:/c%3A/Users/User/Desktop/graph/manual_add.ipynb#W3sZmlsZQ%3D%3D?line=0'>1</a>\u001b[0m \u001b[39m############### Quick test for other start point with the same goal point\u001b[39;00m\n\u001b[1;32m----> <a href='vscode-notebook-cell:/c%3A/Users/User/Desktop/graph/manual_add.ipynb#W3sZmlsZQ%3D%3D?line=2'>3</a>\u001b[0m fp \u001b[39m=\u001b[39m nx\u001b[39m.\u001b[39;49mshortest_path(G,  start,  end)\n\u001b[0;32m      <a href='vscode-notebook-cell:/c%3A/Users/User/Desktop/graph/manual_add.ipynb#W3sZmlsZQ%3D%3D?line=3'>4</a>\u001b[0m \u001b[39mprint\u001b[39m(fp)\n",
      "File \u001b[1;32mc:\\Users\\User\\AppData\\Local\\Programs\\Python\\Python310\\lib\\site-packages\\networkx\\classes\\backends.py:148\u001b[0m, in \u001b[0;36m_dispatch.<locals>.wrapper\u001b[1;34m(*args, **kwds)\u001b[0m\n\u001b[0;32m    144\u001b[0m         \u001b[39melse\u001b[39;00m:\n\u001b[0;32m    145\u001b[0m             \u001b[39mraise\u001b[39;00m NetworkXNotImplemented(\n\u001b[0;32m    146\u001b[0m                 \u001b[39mf\u001b[39m\u001b[39m\"\u001b[39m\u001b[39m'\u001b[39m\u001b[39m{\u001b[39;00mname\u001b[39m}\u001b[39;00m\u001b[39m'\u001b[39m\u001b[39m not implemented by \u001b[39m\u001b[39m{\u001b[39;00mplugin_name\u001b[39m}\u001b[39;00m\u001b[39m\"\u001b[39m\n\u001b[0;32m    147\u001b[0m             )\n\u001b[1;32m--> 148\u001b[0m \u001b[39mreturn\u001b[39;00m func(\u001b[39m*\u001b[39margs, \u001b[39m*\u001b[39m\u001b[39m*\u001b[39mkwds)\n",
      "File \u001b[1;32mc:\\Users\\User\\AppData\\Local\\Programs\\Python\\Python310\\lib\\site-packages\\networkx\\algorithms\\shortest_paths\\generic.py:171\u001b[0m, in \u001b[0;36mshortest_path\u001b[1;34m(G, source, target, weight, method)\u001b[0m\n\u001b[0;32m    168\u001b[0m \u001b[39melse\u001b[39;00m:\n\u001b[0;32m    169\u001b[0m     \u001b[39m# Find shortest source-target path.\u001b[39;00m\n\u001b[0;32m    170\u001b[0m     \u001b[39mif\u001b[39;00m method \u001b[39m==\u001b[39m \u001b[39m\"\u001b[39m\u001b[39munweighted\u001b[39m\u001b[39m\"\u001b[39m:\n\u001b[1;32m--> 171\u001b[0m         paths \u001b[39m=\u001b[39m nx\u001b[39m.\u001b[39;49mbidirectional_shortest_path(G, source, target)\n\u001b[0;32m    172\u001b[0m     \u001b[39melif\u001b[39;00m method \u001b[39m==\u001b[39m \u001b[39m\"\u001b[39m\u001b[39mdijkstra\u001b[39m\u001b[39m\"\u001b[39m:\n\u001b[0;32m    173\u001b[0m         _, paths \u001b[39m=\u001b[39m nx\u001b[39m.\u001b[39mbidirectional_dijkstra(G, source, target, weight)\n",
      "File \u001b[1;32mc:\\Users\\User\\AppData\\Local\\Programs\\Python\\Python310\\lib\\site-packages\\networkx\\algorithms\\shortest_paths\\unweighted.py:237\u001b[0m, in \u001b[0;36mbidirectional_shortest_path\u001b[1;34m(G, source, target)\u001b[0m\n\u001b[0;32m    235\u001b[0m \u001b[39mif\u001b[39;00m source \u001b[39mnot\u001b[39;00m \u001b[39min\u001b[39;00m G \u001b[39mor\u001b[39;00m target \u001b[39mnot\u001b[39;00m \u001b[39min\u001b[39;00m G:\n\u001b[0;32m    236\u001b[0m     msg \u001b[39m=\u001b[39m \u001b[39mf\u001b[39m\u001b[39m\"\u001b[39m\u001b[39mEither source \u001b[39m\u001b[39m{\u001b[39;00msource\u001b[39m}\u001b[39;00m\u001b[39m or target \u001b[39m\u001b[39m{\u001b[39;00mtarget\u001b[39m}\u001b[39;00m\u001b[39m is not in G\u001b[39m\u001b[39m\"\u001b[39m\n\u001b[1;32m--> 237\u001b[0m     \u001b[39mraise\u001b[39;00m nx\u001b[39m.\u001b[39mNodeNotFound(msg)\n\u001b[0;32m    239\u001b[0m \u001b[39m# call helper to do the real work\u001b[39;00m\n\u001b[0;32m    240\u001b[0m results \u001b[39m=\u001b[39m _bidirectional_pred_succ(G, source, target)\n",
      "\u001b[1;31mNodeNotFound\u001b[0m: Either source (560, 599) or target (562, 594) is not in G"
     ]
    }
   ],
   "source": [
    "############### Quick test for other start point with the same goal point\n",
    "\n",
    "fp = nx.shortest_path(G,  start,  end)\n",
    "print(fp)"
   ]
  },
  {
   "cell_type": "code",
   "execution_count": null,
   "metadata": {},
   "outputs": [],
   "source": []
  }
 ],
 "metadata": {
  "kernelspec": {
   "display_name": "Python 3",
   "language": "python",
   "name": "python3"
  },
  "language_info": {
   "codemirror_mode": {
    "name": "ipython",
    "version": 3
   },
   "file_extension": ".py",
   "mimetype": "text/x-python",
   "name": "python",
   "nbconvert_exporter": "python",
   "pygments_lexer": "ipython3",
   "version": "3.10.5"
  }
 },
 "nbformat": 4,
 "nbformat_minor": 2
}
