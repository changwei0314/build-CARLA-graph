{
 "cells": [
  {
   "cell_type": "code",
   "execution_count": 29,
   "metadata": {},
   "outputs": [
    {
     "name": "stdout",
     "output_type": "stream",
     "text": [
      "graph_list/Town01\\1_graph_v0.adjlist\n"
     ]
    }
   ],
   "source": [
    "import networkx as nx\n",
    "import numpy as np\n",
    "import cv2\n",
    "import json\n",
    "import networkx as nx\n",
    "import re\n",
    "import argparse\n",
    "import glob\n",
    "import os\n",
    "\n",
    "from route_generator import iter_all_white_points, draw_waypoint, rdp_algorithm, recorded_find_path\n",
    "from add_path_to_graph import add_path, read_adjlist_with_tuples\n",
    "\n",
    "##################### Input Town number #####################\n",
    "\n",
    "town = input(\"Enter town number: 1, 2, 3, or 10\")\n",
    "\n",
    "if town == 10:\n",
    "    waypoint_map = cv2.imread(\"./waypoint_maps/Town10HD.png\", 1)\n",
    "    town_name = \"Town10HD\"\n",
    "else:\n",
    "    town_name = f\"Town0{town}\"\n",
    "    waypoint_map = cv2.imread(f\"./waypoint_maps/{town_name}.png\", 1)\n",
    "\n",
    "\n",
    "##################### Read latest graph list of the given town #####################\n",
    "\n",
    "list_of_files = glob.glob(f'graph_list/{town_name}/*') # * means all if need specific format then *.csv\n",
    "latest_file = max(list_of_files, key=os.path.getctime)\n",
    "file_name = latest_file[18:]\n",
    "\n",
    "index = int(latest_file[27:-8])\n",
    "new_file_name = latest_file[:27] + str(index+1) + latest_file[-8:]\n",
    "\n",
    "G = read_adjlist_with_tuples(latest_file)\n",
    "print(latest_file)"
   ]
  },
  {
   "cell_type": "code",
   "execution_count": 30,
   "metadata": {},
   "outputs": [],
   "source": [
    "################# Change start, end point #################\n",
    "start, end = (547, 645), (3871, 1346)\n",
    "# start, end = end, start\n"
   ]
  },
  {
   "cell_type": "code",
   "execution_count": 31,
   "metadata": {},
   "outputs": [
    {
     "name": "stdout",
     "output_type": "stream",
     "text": [
      "Start point: (547, 645)\n",
      "End point: (3871, 1346)\n",
      "Finding Path...\n",
      "Not found!!!\n",
      "[[(547, 645), (547, 650), (547, 654), (547, 658), (547, 662), (547, 666), (547, 670), (547, 674), (547, 678), (547, 682), (547, 686), (547, 690), (547, 694), (547, 698), (547, 702), (547, 706), (547, 710), (547, 714), (547, 718), (547, 722), (547, 726), (547, 730), (547, 734), (547, 738), (547, 742), (547, 746), (547, 750), (547, 754), (547, 758), (547, 762), (547, 766), (547, 770), (547, 774), (547, 778), (547, 782), (547, 786), (547, 790), (547, 794), (547, 798), (547, 802), (547, 806), (547, 810), (547, 814), (547, 818), (547, 822), (547, 826), (547, 830), (547, 834), (547, 838), (547, 842), (547, 846), (547, 850), (547, 854), (547, 858), (547, 862), (547, 866), (547, 870), (547, 874), (547, 878), (547, 882), (547, 886), (547, 890), (547, 894), (547, 898), (547, 902), (547, 906), (547, 910), (547, 914), (547, 918), (547, 922), (547, 926), (547, 930), (547, 934), (547, 938), (547, 942), (547, 946), (547, 950), (547, 954), (547, 958), (547, 962), (547, 966), (547, 970), (547, 974), (547, 978), (547, 982), (547, 986), (547, 990), (547, 994), (547, 998), (547, 1002), (547, 1006), (547, 1010), (547, 1014), (547, 1018), (547, 1022), (547, 1026), (547, 1030), (547, 1034), (547, 1038), (547, 1042), (547, 1046), (547, 1050), (547, 1054), (547, 1058), (547, 1062), (547, 1066), (547, 1070), (547, 1074), (547, 1078), (547, 1082), (547, 1086), (547, 1090), (547, 1094), (547, 1098), (547, 1102), (547, 1106), (547, 1110), (547, 1114), (547, 1118), (547, 1122), (547, 1126), (547, 1130), (547, 1134), (547, 1138), (547, 1142), (547, 1146), (547, 1150), (547, 1154), (547, 1158), (547, 1162), (547, 1166), (547, 1170), (547, 1174), (547, 1178), (547, 1182), (547, 1186), (547, 1190), (547, 1194), (547, 1198), (547, 1202), (547, 1206), (547, 1210), (547, 1214), (547, 1218), (547, 1222), (547, 1226), (547, 1230), (547, 1234), (547, 1238), (547, 1242), (547, 1246), (547, 1250), (547, 1254), (547, 1258), (547, 1262), (547, 1266), (547, 1270), (547, 1274), (547, 1278), (547, 1282), (547, 1286), (547, 1290), (547, 1294), (547, 1298), (547, 1302), (547, 1306), (547, 1310), (547, 1314), (547, 1318), (547, 1322), (547, 1326), (547, 1330), (547, 1334), (547, 1338), (547, 1342), (547, 1346)]]\n"
     ]
    }
   ],
   "source": [
    "if start == (0,0) or end == (0,0):\n",
    "    print(\"Didn't change to your point!!!!!!!!\")\n",
    "\n",
    "all_whites_pos = iter_all_white_points(waypoint_map)\n",
    "\n",
    "new_img = waypoint_map.copy()\n",
    "new_img[start[0]][start[1]] = np.array([0, 0, 255])\n",
    "new_img[end[0]][end[1]] = np.array([0, 0, 255])\n",
    "\n",
    "cv2.circle(new_img, start[::-1], radius=5, color=(255, 0, 0), thickness=5)\n",
    "cv2.circle(new_img, end[::-1], radius=5, color=(0, 255, 0), thickness=5)\n",
    "\n",
    "\n",
    "print(\"Start point:\", start)\n",
    "print(\"End point:\", end)\n",
    "print(\"Finding Path...\")\n",
    "# final_path = find_path(start, end, all_whites_pos)\n",
    "flag, final_path = recorded_find_path(start, end, all_whites_pos, \"Forward\", True)\n",
    "\n",
    "##### Path not found #####\n",
    "if flag == False:\n",
    "    print(\"Not found!!!\")\n",
    "    print(final_path)\n",
    "    for i, j in final_path[0]:\n",
    "        new_img[i][j] = np.array([255, 255, 0])\n",
    "    \n",
    "    draw_img = draw_waypoint(waypoint_map, start, end, final_path[0])\n",
    "    rdp_img, _ = rdp_algorithm(draw_img, final_path[0])\n",
    "    cv2.imwrite(f\"test/not_found/test__{start}_{end}.png\", new_img)\n",
    "else:\n",
    "    print(\"found!!!\")\n",
    "    print(final_path[0])\n",
    "    print(\"Adding to the graph list...\")\n",
    "    \n",
    "    # fp = final_path[0][::-1]\n",
    "    # fp = [fp]\n",
    "    # add_path(G, fp, new_file_name)\n",
    "\n",
    "    add_path(G, final_path, new_file_name)\n",
    "    \n",
    "    print(new_file_name, \"Store!\")\n",
    "    cv2.imwrite(f\"test/found/test__{start}_{end}.png\", new_img)"
   ]
  },
  {
   "cell_type": "code",
   "execution_count": 32,
   "metadata": {},
   "outputs": [
    {
     "ename": "NodeNotFound",
     "evalue": "Either source (547, 645) or target (3871, 1346) is not in G",
     "output_type": "error",
     "traceback": [
      "\u001b[1;31m---------------------------------------------------------------------------\u001b[0m",
      "\u001b[1;31mNodeNotFound\u001b[0m                              Traceback (most recent call last)",
      "\u001b[1;32mc:\\Users\\User\\Desktop\\build-CARLA-graph\\manual_add.ipynb Cell 4\u001b[0m line \u001b[0;36m4\n\u001b[0;32m      <a href='vscode-notebook-cell:/c%3A/Users/User/Desktop/build-CARLA-graph/manual_add.ipynb#W3sZmlsZQ%3D%3D?line=0'>1</a>\u001b[0m \u001b[39m############### Quick test for other start point with the same goal point\u001b[39;00m\n\u001b[0;32m      <a href='vscode-notebook-cell:/c%3A/Users/User/Desktop/build-CARLA-graph/manual_add.ipynb#W3sZmlsZQ%3D%3D?line=1'>2</a>\u001b[0m start, end \u001b[39m=\u001b[39m (\u001b[39m547\u001b[39m, \u001b[39m645\u001b[39m), (\u001b[39m3871\u001b[39m, \u001b[39m1346\u001b[39m)\n\u001b[1;32m----> <a href='vscode-notebook-cell:/c%3A/Users/User/Desktop/build-CARLA-graph/manual_add.ipynb#W3sZmlsZQ%3D%3D?line=3'>4</a>\u001b[0m fp \u001b[39m=\u001b[39m nx\u001b[39m.\u001b[39;49mshortest_path(G,  start,  end)\n\u001b[0;32m      <a href='vscode-notebook-cell:/c%3A/Users/User/Desktop/build-CARLA-graph/manual_add.ipynb#W3sZmlsZQ%3D%3D?line=4'>5</a>\u001b[0m \u001b[39mprint\u001b[39m(fp)\n",
      "File \u001b[1;32mc:\\Users\\User\\AppData\\Local\\Programs\\Python\\Python310\\lib\\site-packages\\networkx\\classes\\backends.py:148\u001b[0m, in \u001b[0;36m_dispatch.<locals>.wrapper\u001b[1;34m(*args, **kwds)\u001b[0m\n\u001b[0;32m    144\u001b[0m         \u001b[39melse\u001b[39;00m:\n\u001b[0;32m    145\u001b[0m             \u001b[39mraise\u001b[39;00m NetworkXNotImplemented(\n\u001b[0;32m    146\u001b[0m                 \u001b[39mf\u001b[39m\u001b[39m\"\u001b[39m\u001b[39m'\u001b[39m\u001b[39m{\u001b[39;00mname\u001b[39m}\u001b[39;00m\u001b[39m'\u001b[39m\u001b[39m not implemented by \u001b[39m\u001b[39m{\u001b[39;00mplugin_name\u001b[39m}\u001b[39;00m\u001b[39m\"\u001b[39m\n\u001b[0;32m    147\u001b[0m             )\n\u001b[1;32m--> 148\u001b[0m \u001b[39mreturn\u001b[39;00m func(\u001b[39m*\u001b[39margs, \u001b[39m*\u001b[39m\u001b[39m*\u001b[39mkwds)\n",
      "File \u001b[1;32mc:\\Users\\User\\AppData\\Local\\Programs\\Python\\Python310\\lib\\site-packages\\networkx\\algorithms\\shortest_paths\\generic.py:171\u001b[0m, in \u001b[0;36mshortest_path\u001b[1;34m(G, source, target, weight, method)\u001b[0m\n\u001b[0;32m    168\u001b[0m \u001b[39melse\u001b[39;00m:\n\u001b[0;32m    169\u001b[0m     \u001b[39m# Find shortest source-target path.\u001b[39;00m\n\u001b[0;32m    170\u001b[0m     \u001b[39mif\u001b[39;00m method \u001b[39m==\u001b[39m \u001b[39m\"\u001b[39m\u001b[39munweighted\u001b[39m\u001b[39m\"\u001b[39m:\n\u001b[1;32m--> 171\u001b[0m         paths \u001b[39m=\u001b[39m nx\u001b[39m.\u001b[39;49mbidirectional_shortest_path(G, source, target)\n\u001b[0;32m    172\u001b[0m     \u001b[39melif\u001b[39;00m method \u001b[39m==\u001b[39m \u001b[39m\"\u001b[39m\u001b[39mdijkstra\u001b[39m\u001b[39m\"\u001b[39m:\n\u001b[0;32m    173\u001b[0m         _, paths \u001b[39m=\u001b[39m nx\u001b[39m.\u001b[39mbidirectional_dijkstra(G, source, target, weight)\n",
      "File \u001b[1;32mc:\\Users\\User\\AppData\\Local\\Programs\\Python\\Python310\\lib\\site-packages\\networkx\\algorithms\\shortest_paths\\unweighted.py:237\u001b[0m, in \u001b[0;36mbidirectional_shortest_path\u001b[1;34m(G, source, target)\u001b[0m\n\u001b[0;32m    235\u001b[0m \u001b[39mif\u001b[39;00m source \u001b[39mnot\u001b[39;00m \u001b[39min\u001b[39;00m G \u001b[39mor\u001b[39;00m target \u001b[39mnot\u001b[39;00m \u001b[39min\u001b[39;00m G:\n\u001b[0;32m    236\u001b[0m     msg \u001b[39m=\u001b[39m \u001b[39mf\u001b[39m\u001b[39m\"\u001b[39m\u001b[39mEither source \u001b[39m\u001b[39m{\u001b[39;00msource\u001b[39m}\u001b[39;00m\u001b[39m or target \u001b[39m\u001b[39m{\u001b[39;00mtarget\u001b[39m}\u001b[39;00m\u001b[39m is not in G\u001b[39m\u001b[39m\"\u001b[39m\n\u001b[1;32m--> 237\u001b[0m     \u001b[39mraise\u001b[39;00m nx\u001b[39m.\u001b[39mNodeNotFound(msg)\n\u001b[0;32m    239\u001b[0m \u001b[39m# call helper to do the real work\u001b[39;00m\n\u001b[0;32m    240\u001b[0m results \u001b[39m=\u001b[39m _bidirectional_pred_succ(G, source, target)\n",
      "\u001b[1;31mNodeNotFound\u001b[0m: Either source (547, 645) or target (3871, 1346) is not in G"
     ]
    }
   ],
   "source": [
    "############### Quick test for other start point with the same goal point\n",
    "start, end = (547, 645), (3871, 1346)\n",
    "\n",
    "fp = nx.shortest_path(G,  start,  end)\n",
    "print(fp)"
   ]
  },
  {
   "cell_type": "code",
   "execution_count": null,
   "metadata": {},
   "outputs": [],
   "source": []
  }
 ],
 "metadata": {
  "kernelspec": {
   "display_name": "Python 3",
   "language": "python",
   "name": "python3"
  },
  "language_info": {
   "codemirror_mode": {
    "name": "ipython",
    "version": 3
   },
   "file_extension": ".py",
   "mimetype": "text/x-python",
   "name": "python",
   "nbconvert_exporter": "python",
   "pygments_lexer": "ipython3",
   "version": "3.10.5"
  }
 },
 "nbformat": 4,
 "nbformat_minor": 2
}
