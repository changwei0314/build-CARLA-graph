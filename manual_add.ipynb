{
 "cells": [
  {
   "cell_type": "code",
   "execution_count": 18,
   "metadata": {},
   "outputs": [
    {
     "name": "stdout",
     "output_type": "stream",
     "text": [
      "graph_list/Town02\\2_graph_v10.adjlist\n"
     ]
    }
   ],
   "source": [
    "import networkx as nx\n",
    "import numpy as np\n",
    "import cv2\n",
    "import json\n",
    "import networkx as nx\n",
    "import re\n",
    "import argparse\n",
    "import glob\n",
    "import os\n",
    "\n",
    "from route_generator import iter_all_white_points, draw_waypoint, rdp_algorithm, recorded_find_path\n",
    "from add_path_to_graph import add_path, read_adjlist_with_tuples\n",
    "\n",
    "##################### Input Town number #####################\n",
    "\n",
    "town = int(input(\"Enter town number: 1, 2, 3, or 10\"))\n",
    "\n",
    "if town == 10:\n",
    "    waypoint_map = cv2.imread(\"./waypoint_maps/Town10HD.png\", 1)\n",
    "    town_name = \"Town10HD\"\n",
    "else:\n",
    "    town_name = f\"Town0{town}\"\n",
    "    waypoint_map = cv2.imread(f\"./waypoint_maps/{town_name}.png\", 1)\n",
    "\n",
    "\n",
    "##################### Read latest graph list of the given town #####################\n",
    "\n",
    "list_of_files = glob.glob(f'graph_list/{town_name}/*') # * means all if need specific format then *.csv\n",
    "latest_file = max(list_of_files, key=os.path.getctime)\n",
    "\n",
    "if town == 10:\n",
    "    index = int(latest_file[30:-8])\n",
    "    new_file_name = latest_file[:30] + str(index+1) + latest_file[-8:]\n",
    "else:\n",
    "    index = int(latest_file[27:-8])\n",
    "    new_file_name = latest_file[:27] + str(index+1) + latest_file[-8:]\n",
    "\n",
    "G = read_adjlist_with_tuples(latest_file)\n",
    "print(latest_file)"
   ]
  },
  {
   "cell_type": "code",
   "execution_count": 19,
   "metadata": {},
   "outputs": [
    {
     "ename": "ValueError",
     "evalue": "invalid literal for int() with base 10: ''",
     "output_type": "error",
     "traceback": [
      "\u001b[1;31m---------------------------------------------------------------------------\u001b[0m",
      "\u001b[1;31mValueError\u001b[0m                                Traceback (most recent call last)",
      "\u001b[1;32mc:\\Users\\User\\Desktop\\build-CARLA-graph\\manual_add.ipynb Cell 2\u001b[0m line \u001b[0;36m3\n\u001b[0;32m      <a href='vscode-notebook-cell:/c%3A/Users/User/Desktop/build-CARLA-graph/manual_add.ipynb#W1sZmlsZQ%3D%3D?line=0'>1</a>\u001b[0m \u001b[39m################# Change start, end point #################\u001b[39;00m\n\u001b[1;32m----> <a href='vscode-notebook-cell:/c%3A/Users/User/Desktop/build-CARLA-graph/manual_add.ipynb#W1sZmlsZQ%3D%3D?line=2'>3</a>\u001b[0m reverse \u001b[39m=\u001b[39m \u001b[39mint\u001b[39;49m(\u001b[39minput\u001b[39;49m(\u001b[39m\"\u001b[39;49m\u001b[39mDo reverse search or not? (y for reverse search, other for original search)\u001b[39;49m\u001b[39m\\n\u001b[39;49;00m\u001b[39m\"\u001b[39;49m))\n\u001b[0;32m      <a href='vscode-notebook-cell:/c%3A/Users/User/Desktop/build-CARLA-graph/manual_add.ipynb#W1sZmlsZQ%3D%3D?line=4'>5</a>\u001b[0m start, end \u001b[39m=\u001b[39m (\u001b[39m1807\u001b[39m, \u001b[39m1044\u001b[39m), (\u001b[39m2339\u001b[39m, \u001b[39m1039\u001b[39m)\n\u001b[0;32m      <a href='vscode-notebook-cell:/c%3A/Users/User/Desktop/build-CARLA-graph/manual_add.ipynb#W1sZmlsZQ%3D%3D?line=6'>7</a>\u001b[0m \u001b[39mif\u001b[39;00m reverse \u001b[39m==\u001b[39m \u001b[39m\"\u001b[39m\u001b[39my\u001b[39m\u001b[39m\"\u001b[39m:\n",
      "\u001b[1;31mValueError\u001b[0m: invalid literal for int() with base 10: ''"
     ]
    }
   ],
   "source": [
    "################# Change start, end point #################\n",
    "\n",
    "reverse = input(\"Do reverse search or not? (y for reverse search, other for original search)\\n\")\n",
    "\n",
    "start, end = (1807, 1044), (2339, 1039)\n",
    "\n",
    "if reverse == \"y\":\n",
    "    start, end = end, start\n"
   ]
  },
  {
   "cell_type": "code",
   "execution_count": 17,
   "metadata": {},
   "outputs": [
    {
     "name": "stdout",
     "output_type": "stream",
     "text": [
      "Start point: (2339, 1039)\n",
      "End point: (1807, 1044)\n",
      "Finding Path...\n",
      "Get!!!\n",
      "found!!!\n",
      "[(2339, 1039), (2335, 1039), (2331, 1039), (2327, 1039), (2323, 1039), (2319, 1039), (2315, 1039), (2311, 1039), (2307, 1039), (2303, 1039), (2299, 1039), (2295, 1039), (2291, 1039), (2287, 1039), (2283, 1039), (2279, 1039), (2275, 1039), (2271, 1039), (2267, 1039), (2263, 1039), (2259, 1039), (2255, 1039), (2251, 1039), (2247, 1039), (2243, 1039), (2239, 1039), (2235, 1039), (2231, 1039), (2227, 1039), (2223, 1039), (2219, 1039), (2215, 1039), (2211, 1039), (2207, 1039), (2203, 1039), (2199, 1039), (2195, 1039), (2191, 1039), (2187, 1039), (2183, 1039), (2179, 1039), (2175, 1039), (2171, 1039), (2167, 1039), (2163, 1039), (2159, 1039), (2155, 1039), (2151, 1039), (2147, 1039), (2143, 1039), (2139, 1039), (2135, 1039), (2131, 1039), (2127, 1039), (2123, 1039), (2119, 1039), (2115, 1039), (2111, 1039), (2107, 1039), (2103, 1039), (2099, 1039), (2095, 1039), (2091, 1039), (2087, 1039), (2083, 1039), (2079, 1039), (2075, 1039), (2071, 1039), (2067, 1039), (2063, 1039), (2059, 1039), (2055, 1039), (2051, 1039), (2047, 1039), (2043, 1039), (2039, 1039), (2035, 1039), (2031, 1039), (2027, 1039), (2023, 1039), (2019, 1039), (2015, 1039), (2011, 1039), (2007, 1039), (2003, 1039), (1999, 1039), (1995, 1039), (1991, 1039), (1987, 1039), (1983, 1039), (1979, 1039), (1975, 1039), (1971, 1039), (1970, 1039), (1967, 1039), (1966, 1039), (1963, 1039), (1962, 1039), (1959, 1039), (1958, 1039), (1955, 1039), (1954, 1039), (1951, 1039), (1950, 1039), (1947, 1039), (1946, 1039), (1943, 1039), (1942, 1039), (1938, 1039), (1933, 1040), (1927, 1041), (1922, 1042), (1917, 1044), (1912, 1045), (1910, 1039), (1906, 1039), (1902, 1039), (1898, 1039), (1894, 1039), (1890, 1039), (1886, 1039), (1882, 1039), (1878, 1039), (1874, 1039), (1870, 1039), (1866, 1039), (1862, 1039), (1858, 1039), (1854, 1039), (1850, 1039), (1846, 1039), (1842, 1039), (1838, 1039), (1834, 1039), (1830, 1039), (1826, 1039), (1822, 1039), (1818, 1039), (1814, 1039), (1810, 1039), (1807, 1044)]\n",
      "Adding to the graph list...\n",
      "Add\n",
      "Add\n",
      "[(1807, 1044), (1810, 1039), (1814, 1039), (1818, 1039), (1822, 1039), (1826, 1039), (1830, 1039), (1834, 1039), (1838, 1039), (1842, 1039), (1846, 1039), (1850, 1039), (1854, 1039), (1858, 1039), (1862, 1039), (1866, 1039), (1870, 1039), (1874, 1039), (1878, 1039), (1882, 1039), (1886, 1039), (1890, 1039), (1894, 1039), (1898, 1039), (1902, 1039), (1906, 1039), (1910, 1039), (1912, 1045), (1917, 1044), (1922, 1042), (1927, 1041), (1933, 1040), (1938, 1039), (1942, 1039), (1947, 1039), (1951, 1039), (1955, 1039), (1959, 1039), (1963, 1039), (1967, 1039), (1971, 1039), (1975, 1039), (1979, 1039), (1983, 1039), (1987, 1039), (1991, 1039), (1995, 1039), (1999, 1039), (2003, 1039), (2007, 1039), (2011, 1039), (2015, 1039), (2019, 1039), (2023, 1039), (2027, 1039), (2031, 1039), (2035, 1039), (2039, 1039), (2043, 1039), (2047, 1039), (2051, 1039), (2055, 1039), (2059, 1039), (2063, 1039), (2067, 1039), (2071, 1039), (2075, 1039), (2079, 1039), (2083, 1039), (2087, 1039), (2091, 1039), (2095, 1039), (2099, 1039), (2103, 1039), (2107, 1039), (2111, 1039), (2115, 1039), (2119, 1039), (2123, 1039), (2127, 1039), (2131, 1039), (2135, 1039), (2139, 1039), (2143, 1039), (2147, 1039), (2151, 1039), (2155, 1039), (2159, 1039), (2163, 1039), (2167, 1039), (2171, 1039), (2175, 1039), (2179, 1039), (2183, 1039), (2187, 1039), (2191, 1039), (2195, 1039), (2199, 1039), (2203, 1039), (2207, 1039), (2211, 1039), (2215, 1039), (2219, 1039), (2223, 1039), (2227, 1039), (2231, 1039), (2235, 1039), (2239, 1039), (2243, 1039), (2247, 1039), (2251, 1039), (2255, 1039), (2259, 1039), (2263, 1039), (2267, 1039), (2271, 1039), (2275, 1039), (2279, 1039), (2283, 1039), (2287, 1039), (2291, 1039), (2295, 1039), (2299, 1039), (2303, 1039), (2307, 1039), (2311, 1039), (2315, 1039), (2319, 1039), (2323, 1039), (2327, 1039), (2331, 1039), (2335, 1039), (2339, 1039)]\n",
      "graph_list/Town02\\2_graph_v10.adjlist Store!\n"
     ]
    }
   ],
   "source": [
    "if start == (0,0) or end == (0,0):\n",
    "    print(\"Didn't change to your point!!!!!!!!\")\n",
    "\n",
    "all_whites_pos = iter_all_white_points(waypoint_map)\n",
    "\n",
    "new_img = waypoint_map.copy()\n",
    "new_img[start[0]][start[1]] = np.array([0, 0, 255])\n",
    "new_img[end[0]][end[1]] = np.array([0, 0, 255])\n",
    "\n",
    "cv2.circle(new_img, start[::-1], radius=5, color=(255, 0, 0), thickness=5)\n",
    "cv2.circle(new_img, end[::-1], radius=5, color=(0, 255, 0), thickness=5)\n",
    "\n",
    "\n",
    "print(\"Start point:\", start)\n",
    "print(\"End point:\", end)\n",
    "print(\"Finding Path...\")\n",
    "# final_path = find_path(start, end, all_whites_pos)\n",
    "flag, final_path = recorded_find_path(start, end, all_whites_pos, \"Forward\", True)\n",
    "\n",
    "##### Path not found #####\n",
    "if flag == False:\n",
    "    print(\"Not found!!!\")\n",
    "    print(final_path)\n",
    "    for i, j in final_path[0]:\n",
    "        new_img[i][j] = np.array([255, 255, 0])\n",
    "    \n",
    "    draw_img = draw_waypoint(waypoint_map, start, end, final_path[0])\n",
    "    rdp_img, _ = rdp_algorithm(draw_img, final_path[0])\n",
    "    cv2.imwrite(f\"test/not_found/test__{start}_{end}.png\", new_img)\n",
    "else:\n",
    "    print(\"found!!!\")\n",
    "    print(final_path[0])\n",
    "    print(\"Adding to the graph list...\")\n",
    "    \n",
    "    if reverse == \"y\":\n",
    "        fp = final_path[0][::-1]\n",
    "        fp = [fp]\n",
    "        add_path(G, fp, new_file_name)\n",
    "    else:\n",
    "        add_path(G, final_path, new_file_name)\n",
    "    \n",
    "    print(new_file_name, \"Store!\")\n",
    "    draw_img = draw_waypoint(waypoint_map, start, end, final_path[0])\n",
    "    rdp_img, _ = rdp_algorithm(draw_img, final_path[0])\n",
    "    cv2.imwrite(f\"test/found/test__{start}_{end}.png\", rdp_img)"
   ]
  },
  {
   "cell_type": "code",
   "execution_count": 16,
   "metadata": {},
   "outputs": [
    {
     "name": "stdout",
     "output_type": "stream",
     "text": [
      "[(1900, 2430), (1901, 2434), (1901, 2466), (1910, 2493), (2017, 2517), (2125, 2517), (2233, 2517), (2341, 2517), (2429, 2517)]\n"
     ]
    }
   ],
   "source": [
    "############### Quick test for other start point with the same goal point\n",
    "start, end = (1900, 2430), (2429, 2517)\n",
    "\n",
    "fp = nx.shortest_path(G,  start,  end)\n",
    "print(fp)"
   ]
  },
  {
   "cell_type": "code",
   "execution_count": null,
   "metadata": {},
   "outputs": [],
   "source": []
  }
 ],
 "metadata": {
  "kernelspec": {
   "display_name": "Python 3",
   "language": "python",
   "name": "python3"
  },
  "language_info": {
   "codemirror_mode": {
    "name": "ipython",
    "version": 3
   },
   "file_extension": ".py",
   "mimetype": "text/x-python",
   "name": "python",
   "nbconvert_exporter": "python",
   "pygments_lexer": "ipython3",
   "version": "3.10.5"
  }
 },
 "nbformat": 4,
 "nbformat_minor": 2
}
