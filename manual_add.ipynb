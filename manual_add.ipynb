{
 "cells": [
  {
   "cell_type": "code",
   "execution_count": 298,
   "metadata": {},
   "outputs": [
    {
     "name": "stdout",
     "output_type": "stream",
     "text": [
      "graph_list/Town05\\5_graph_v3.adjlist\n"
     ]
    }
   ],
   "source": [
    "import networkx as nx\n",
    "import numpy as np\n",
    "import cv2\n",
    "import json\n",
    "import networkx as nx\n",
    "import re\n",
    "import argparse\n",
    "import glob\n",
    "import os\n",
    "\n",
    "from route_generator import iter_all_white_points, draw_waypoint, rdp_algorithm, recorded_find_path\n",
    "from add_path_to_graph import add_path, read_adjlist_with_tuples\n",
    "\n",
    "##################### Input Town number #####################\n",
    "\n",
    "town = int(input(\"Enter town number: 1, 2, 3, 7, or 10\"))\n",
    "\n",
    "if town == 10:\n",
    "    waypoint_map = cv2.imread(\"./waypoint_maps/Town10HD.png\", 1)\n",
    "    town_name = \"Town10HD\"\n",
    "else:\n",
    "    town_name = f\"Town0{town}\"\n",
    "    waypoint_map = cv2.imread(f\"./waypoint_maps/{town_name}.png\", 1)\n",
    "\n",
    "\n",
    "##################### Read latest graph list of the given town #####################\n",
    "\n",
    "list_of_files = glob.glob(f'graph_list/{town_name}/*') # * means all if need specific format then *.csv\n",
    "latest_file = max(list_of_files, key=os.path.getctime)\n",
    "\n",
    "if town == 10:\n",
    "    index = int(latest_file[30:-8])\n",
    "    new_file_name = latest_file[:30] + str(index+1) + latest_file[-8:]\n",
    "else:\n",
    "    index = int(latest_file[27:-8])\n",
    "    new_file_name = latest_file[:27] + str(index+1) + latest_file[-8:]\n",
    "\n",
    "G = read_adjlist_with_tuples(latest_file)\n",
    "\n",
    "print(latest_file)"
   ]
  },
  {
   "cell_type": "code",
   "execution_count": 299,
   "metadata": {},
   "outputs": [],
   "source": [
    "################# Change start, end point #################\n",
    "\n",
    "reverse = input(\"Do reverse search or not? (y for reverse search, other for original search)\\n\")\n",
    "\n",
    "start, end = (2639, 572), (3242, 527)\n",
    "\n",
    "if reverse == \"y\":\n",
    "    start, end = end, start\n"
   ]
  },
  {
   "cell_type": "code",
   "execution_count": 300,
   "metadata": {},
   "outputs": [
    {
     "name": "stdout",
     "output_type": "stream",
     "text": [
      "Start point: (3242, 527)\n",
      "End point: (2639, 572)\n",
      "Finding Path...\n",
      "Get!!!\n",
      "found!!!\n",
      "[(3242, 527), (3238, 527), (3234, 527), (3230, 527), (3226, 526), (3222, 526), (3218, 526), (3214, 526), (3210, 526), (3206, 526), (3202, 526), (3198, 526), (3194, 526), (3190, 526), (3186, 526), (3182, 526), (3178, 526), (3174, 526), (3170, 526), (3166, 526), (3162, 526), (3158, 526), (3154, 526), (3150, 526), (3146, 526), (3142, 526), (3138, 526), (3134, 526), (3130, 526), (3126, 525), (3122, 525), (3118, 525), (3114, 525), (3110, 525), (3106, 525), (3102, 525), (3098, 525), (3094, 525), (3090, 525), (3086, 525), (3082, 525), (3078, 525), (3074, 525), (3070, 525), (3066, 525), (3062, 525), (3058, 525), (3054, 525), (3050, 525), (3046, 525), (3042, 525), (3038, 525), (3034, 525), (3030, 524), (3026, 524), (3022, 524), (3018, 524), (3014, 524), (3010, 524), (3006, 524), (3002, 524), (2998, 524), (2994, 524), (2990, 524), (2986, 524), (2982, 524), (2978, 524), (2974, 524), (2970, 524), (2966, 524), (2962, 524), (2958, 524), (2954, 524), (2950, 524), (2946, 524), (2942, 524), (2938, 524), (2934, 524), (2930, 523), (2926, 523), (2922, 523), (2918, 523), (2914, 523), (2910, 523), (2906, 523), (2902, 523), (2898, 523), (2894, 523), (2890, 523), (2886, 523), (2882, 523), (2878, 523), (2874, 523), (2870, 523), (2866, 523), (2862, 523), (2858, 523), (2854, 523), (2850, 523), (2846, 523), (2842, 523), (2838, 523), (2834, 522), (2830, 522), (2827, 522), (2823, 522), (2819, 522), (2815, 522), (2811, 522), (2807, 522), (2803, 522), (2799, 522), (2795, 522), (2791, 522), (2787, 522), (2783, 522), (2779, 522), (2775, 522), (2771, 522), (2767, 522), (2763, 522), (2759, 522), (2755, 522), (2751, 522), (2747, 522), (2743, 522), (2739, 522), (2735, 522), (2731, 522), (2727, 522), (2722, 522), (2720, 523), (2714, 524), (2709, 526), (2704, 527), (2699, 529), (2694, 531), (2688, 534), (2684, 536), (2678, 539), (2672, 542), (2667, 545), (2663, 548), (2661, 550), (2658, 553), (2655, 556), (2651, 560), (2649, 564), (2647, 567), (2645, 570), (2639, 572)]\n",
      "Adding to the graph list...\n",
      "[(2639, 572), (2645, 570), (2647, 567), (2655, 556), (2658, 553), (2667, 545), (2672, 542), (2688, 534), (2694, 531), (2709, 526), (2714, 524), (2727, 522), (2731, 522), (2743, 522), (2747, 522), (2759, 522), (2763, 522), (2775, 522), (2779, 522), (2791, 522), (2795, 522), (2807, 522), (2811, 522), (2823, 522), (2827, 522), (2838, 523), (2842, 523), (2854, 523), (2858, 523), (2870, 523), (2874, 523), (2886, 523), (2890, 523), (2902, 523), (2906, 523), (2918, 523), (2922, 523), (2934, 524), (2938, 524), (2950, 524), (2954, 524), (2966, 524), (2970, 524), (2982, 524), (2986, 524), (2998, 524), (3002, 524), (3014, 524), (3018, 524), (3030, 524), (3034, 525), (3046, 525), (3050, 525), (3062, 525), (3066, 525), (3078, 525), (3082, 525), (3094, 525), (3098, 525), (3110, 525), (3114, 525), (3126, 525), (3130, 526), (3142, 526), (3146, 526), (3158, 526), (3162, 526), (3174, 526), (3178, 526), (3190, 526), (3194, 526), (3206, 526), (3210, 526), (3222, 526), (3226, 526), (3238, 527), (3242, 527)]\n",
      "graph_list/Town05\\5_graph_v4.adjlist Store!\n"
     ]
    }
   ],
   "source": [
    "if start == (0,0) or end == (0,0):\n",
    "    print(\"Didn't change to your point!!!!!!!!\")\n",
    "\n",
    "all_whites_pos = iter_all_white_points(waypoint_map)\n",
    "\n",
    "new_img = waypoint_map.copy()\n",
    "new_img[start[0]][start[1]] = np.array([0, 0, 255])\n",
    "new_img[end[0]][end[1]] = np.array([0, 0, 255])\n",
    "\n",
    "cv2.circle(new_img, start[::-1], radius=5, color=(255, 0, 0), thickness=5)\n",
    "cv2.circle(new_img, end[::-1], radius=5, color=(0, 255, 0), thickness=5)\n",
    "\n",
    "\n",
    "print(\"Start point:\", start)\n",
    "print(\"End point:\", end)\n",
    "print(\"Finding Path...\")\n",
    "# final_path = find_path(start, end, all_whites_pos)\n",
    "flag, final_path = recorded_find_path(start, end, all_whites_pos, \"\", False)\n",
    "\n",
    "##### Path not found #####\n",
    "if flag == False:\n",
    "    print(\"Not found!!!\")\n",
    "    print(final_path)\n",
    "    for i, j in final_path[0]:\n",
    "        new_img[i][j] = np.array([255, 255, 0])\n",
    "    \n",
    "    draw_img = draw_waypoint(waypoint_map, start, end, final_path[0])\n",
    "    rdp_img, _ = rdp_algorithm(draw_img, final_path[0])\n",
    "    cv2.imwrite(f\"test/not_found/test__{start}_{end}.png\", new_img)\n",
    "else:\n",
    "    print(\"found!!!\")\n",
    "    print(final_path[0])\n",
    "    print(\"Adding to the graph list...\")\n",
    "    \n",
    "    if reverse == \"y\":\n",
    "        fp = final_path[0][::-1]\n",
    "        fp = [fp]\n",
    "        add_path(G, fp, new_file_name)\n",
    "    else:\n",
    "        add_path(G, final_path, new_file_name)\n",
    "    \n",
    "    print(new_file_name, \"Store!\")\n",
    "    draw_img = draw_waypoint(waypoint_map, start, end, final_path[0])\n",
    "    rdp_img, _ = rdp_algorithm(draw_img, final_path[0])\n",
    "    cv2.imwrite(f\"test/found/test__{start}_{end}.png\", rdp_img)"
   ]
  },
  {
   "cell_type": "code",
   "execution_count": 302,
   "metadata": {},
   "outputs": [
    {
     "name": "stdout",
     "output_type": "stream",
     "text": [
      "[(2622, 853), (2626, 853), (2627, 847), (2627, 835), (2627, 831), (2627, 819), (2623, 818), (2627, 807), (2627, 803), (2628, 791), (2628, 787), (2628, 775), (2628, 771), (2628, 759), (2628, 755), (2628, 743), (2628, 739), (2628, 727), (2628, 723), (2628, 711), (2628, 707), (2628, 695), (2628, 691), (2628, 679), (2628, 675), (2628, 663), (2628, 659), (2628, 647), (2628, 643), (2628, 630), (2629, 625), (2630, 620), (2631, 615), (2634, 605), (2636, 600), (2643, 593), (2641, 591), (2637, 585), (2639, 581), (2639, 572), (2645, 570), (2647, 567), (2655, 556), (2658, 553), (2667, 545), (2672, 542), (2688, 534), (2694, 531), (2709, 526), (2714, 524), (2727, 522), (2731, 522), (2743, 522), (2747, 522), (2759, 522), (2763, 522), (2775, 522), (2779, 522), (2791, 522), (2795, 522), (2807, 522), (2811, 522), (2823, 522), (2827, 522), (2838, 523), (2842, 523), (2854, 523), (2858, 523), (2870, 523), (2874, 523), (2886, 523), (2890, 523), (2902, 523), (2906, 523), (2918, 523), (2922, 523), (2934, 524), (2938, 524), (2950, 524), (2954, 524), (2966, 524), (2970, 524), (2982, 524), (2986, 524), (2998, 524), (3002, 524), (3014, 524), (3018, 524), (3030, 524), (3034, 525), (3046, 525), (3050, 525), (3062, 525), (3066, 525), (3078, 525), (3082, 525), (3094, 525), (3098, 525), (3110, 525), (3114, 525), (3126, 525), (3130, 526), (3142, 526), (3146, 526), (3158, 526), (3162, 526), (3174, 526), (3178, 526), (3190, 526), (3194, 526), (3206, 526), (3210, 526), (3222, 526), (3226, 526), (3238, 527), (3242, 527)]\n"
     ]
    }
   ],
   "source": [
    "############### Quick test for other start point with the same goal point\n",
    "start, end =  (2622, 853), (3242, 527)\n",
    "\n",
    "\n",
    "fp = nx.shortest_path(G,  start,  end)\n",
    "draw_img = draw_waypoint(waypoint_map, start, end, fp)\n",
    "rdp_img, _ = rdp_algorithm(draw_img, fp)\n",
    "cv2.imwrite(f\"test/check__{start}_{end}.png\", rdp_img)\n",
    "print(fp)"
   ]
  },
  {
   "cell_type": "code",
   "execution_count": null,
   "metadata": {},
   "outputs": [],
   "source": []
  }
 ],
 "metadata": {
  "kernelspec": {
   "display_name": "Python 3",
   "language": "python",
   "name": "python3"
  },
  "language_info": {
   "codemirror_mode": {
    "name": "ipython",
    "version": 3
   },
   "file_extension": ".py",
   "mimetype": "text/x-python",
   "name": "python",
   "nbconvert_exporter": "python",
   "pygments_lexer": "ipython3",
   "version": "3.10.5"
  }
 },
 "nbformat": 4,
 "nbformat_minor": 2
}
