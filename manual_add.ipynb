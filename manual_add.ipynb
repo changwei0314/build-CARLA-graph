{
 "cells": [
  {
   "cell_type": "code",
   "execution_count": 1,
   "metadata": {},
   "outputs": [
    {
     "name": "stdout",
     "output_type": "stream",
     "text": [
      "graph_list/Town03\\3_graph_v34.adjlist\n"
     ]
    }
   ],
   "source": [
    "import networkx as nx\n",
    "import numpy as np\n",
    "import cv2\n",
    "import json\n",
    "import networkx as nx\n",
    "import re\n",
    "import argparse\n",
    "import glob\n",
    "import os\n",
    "\n",
    "from route_generator import iter_all_white_points, draw_waypoint, rdp_algorithm, recorded_find_path\n",
    "from add_path_to_graph import add_path, read_adjlist_with_tuples\n",
    "\n",
    "##################### Input Town number #####################\n",
    "\n",
    "town = int(input(\"Enter town number: 1, 2, 3, 7, or 10\"))\n",
    "\n",
    "if town == 10:\n",
    "    waypoint_map = cv2.imread(\"./waypoint_maps/Town10HD.png\", 1)\n",
    "    town_name = \"Town10HD\"\n",
    "else:\n",
    "    town_name = f\"Town0{town}\"\n",
    "    waypoint_map = cv2.imread(f\"./waypoint_maps/{town_name}.png\", 1)\n",
    "\n",
    "\n",
    "##################### Read latest graph list of the given town #####################\n",
    "\n",
    "list_of_files = glob.glob(f'graph_list/{town_name}/*') # * means all if need specific format then *.csv\n",
    "latest_file = max(list_of_files, key=os.path.getctime)\n",
    "\n",
    "if town == 10:\n",
    "    index = int(latest_file[30:-8])\n",
    "    new_file_name = latest_file[:30] + str(index+1) + latest_file[-8:]\n",
    "else:\n",
    "    index = int(latest_file[27:-8])\n",
    "    new_file_name = latest_file[:27] + str(index+1) + latest_file[-8:]\n",
    "\n",
    "G = read_adjlist_with_tuples(latest_file)\n",
    "\n",
    "print(latest_file)"
   ]
  },
  {
   "cell_type": "code",
   "execution_count": 2,
   "metadata": {},
   "outputs": [],
   "source": [
    "################# Change start, end point #################\n",
    "\n",
    "reverse = input(\"Do reverse search or not? (y for reverse search, other for original search)\\n\")\n",
    "\n",
    "start, end = (621, 2364), (604, 1679)\n",
    "if reverse == \"y\":\n",
    "    start, end = end, start\n"
   ]
  },
  {
   "cell_type": "code",
   "execution_count": 3,
   "metadata": {},
   "outputs": [
    {
     "name": "stdout",
     "output_type": "stream",
     "text": [
      "Start point: (604, 1679)\n",
      "End point: (621, 2364)\n",
      "Finding Path...\n",
      "Get!!!\n",
      "found!!!\n",
      "[(604, 1679), (604, 1683), (604, 1687), (604, 1691), (605, 1695), (605, 1699), (605, 1703), (605, 1707), (605, 1711), (605, 1715), (605, 1719), (605, 1723), (605, 1727), (605, 1731), (606, 1735), (606, 1739), (606, 1743), (606, 1747), (606, 1751), (606, 1755), (606, 1759), (606, 1763), (606, 1767), (606, 1771), (607, 1775), (607, 1779), (607, 1783), (607, 1787), (607, 1791), (607, 1795), (607, 1799), (607, 1803), (607, 1807), (607, 1811), (608, 1815), (608, 1819), (608, 1823), (608, 1827), (608, 1831), (608, 1835), (608, 1839), (608, 1843), (608, 1847), (608, 1851), (609, 1855), (609, 1859), (609, 1863), (609, 1867), (609, 1871), (609, 1875), (609, 1879), (609, 1883), (609, 1887), (609, 1891), (610, 1895), (610, 1899), (610, 1903), (610, 1907), (610, 1911), (610, 1915), (610, 1919), (610, 1923), (610, 1927), (610, 1931), (611, 1935), (611, 1939), (611, 1943), (611, 1947), (611, 1951), (611, 1955), (611, 1959), (611, 1963), (611, 1967), (611, 1971), (612, 1975), (612, 1979), (612, 1983), (612, 1987), (612, 1991), (612, 1996), (612, 2000), (612, 2003), (612, 2004), (612, 2007), (612, 2008), (612, 2011), (613, 2017), (613, 2023), (613, 2027), (613, 2031), (613, 2035), (613, 2039), (613, 2043), (613, 2047), (613, 2051), (614, 2055), (614, 2059), (614, 2063), (614, 2067), (614, 2071), (614, 2075), (614, 2079), (614, 2083), (614, 2087), (614, 2091), (615, 2095), (615, 2099), (615, 2103), (615, 2107), (615, 2111), (615, 2115), (615, 2121), (615, 2123), (615, 2127), (615, 2131), (616, 2135), (616, 2139), (616, 2143), (616, 2147), (616, 2151), (616, 2155), (616, 2159), (616, 2163), (616, 2167), (616, 2171), (617, 2175), (617, 2179), (617, 2183), (617, 2187), (617, 2191), (617, 2195), (617, 2199), (617, 2203), (617, 2207), (617, 2211), (618, 2215), (618, 2219), (618, 2223), (618, 2227), (618, 2231), (618, 2235), (618, 2239), (618, 2243), (618, 2247), (618, 2251), (619, 2255), (619, 2259), (619, 2263), (619, 2267), (619, 2271), (619, 2275), (619, 2279), (619, 2283), (619, 2287), (619, 2291), (620, 2295), (620, 2299), (620, 2305), (620, 2311), (620, 2314), (620, 2318), (620, 2324), (620, 2328), (621, 2332), (621, 2336), (621, 2340), (621, 2344), (621, 2348), (621, 2352), (621, 2356), (621, 2360), (621, 2364)]\n",
      "Adding to the graph list...\n",
      "Add\n",
      "Add\n",
      "Add\n",
      "Add\n",
      "Add\n",
      "Add\n",
      "Add\n",
      "Add\n",
      "Add\n",
      "Add\n",
      "Add\n",
      "Add\n",
      "Add\n",
      "Add\n",
      "Add\n",
      "Add\n",
      "Add\n",
      "Add\n",
      "Add\n",
      "Add\n",
      "Add\n",
      "Add\n",
      "Add\n",
      "Add\n",
      "Add\n",
      "Add\n",
      "Add\n",
      "Add\n",
      "Add\n",
      "Add\n",
      "Add\n",
      "Add\n",
      "Add\n",
      "Add\n",
      "Add\n",
      "Add\n",
      "Add\n",
      "[(621, 2364), (621, 2360), (621, 2348), (621, 2336), (620, 2324), (620, 2311), (620, 2295), (619, 2283), (619, 2271), (619, 2259), (618, 2247), (618, 2235), (618, 2223), (617, 2211), (617, 2199), (617, 2187), (617, 2175), (616, 2163), (616, 2151), (616, 2139), (615, 2127), (615, 2115), (615, 2103), (614, 2091), (614, 2079), (614, 2067), (614, 2055), (613, 2043), (613, 2031), (613, 2017), (612, 2007), (612, 2000), (612, 1987), (612, 1975), (611, 1963), (611, 1951), (611, 1939), (610, 1927), (610, 1915), (610, 1903), (609, 1891), (609, 1879), (609, 1867), (609, 1855), (608, 1843), (608, 1831), (608, 1819), (607, 1807), (607, 1795), (607, 1783), (606, 1771), (606, 1759), (606, 1747), (606, 1735), (605, 1723), (605, 1711), (605, 1699), (604, 1687), (604, 1679)]\n",
      "graph_list/Town03\\3_graph_v35.adjlist Store!\n"
     ]
    }
   ],
   "source": [
    "if start == (0,0) or end == (0,0):\n",
    "    print(\"Didn't change to your point!!!!!!!!\")\n",
    "\n",
    "all_whites_pos = iter_all_white_points(waypoint_map)\n",
    "\n",
    "new_img = waypoint_map.copy()\n",
    "new_img[start[0]][start[1]] = np.array([0, 0, 255])\n",
    "new_img[end[0]][end[1]] = np.array([0, 0, 255])\n",
    "\n",
    "cv2.circle(new_img, start[::-1], radius=5, color=(255, 0, 0), thickness=5)\n",
    "cv2.circle(new_img, end[::-1], radius=5, color=(0, 255, 0), thickness=5)\n",
    "\n",
    "\n",
    "print(\"Start point:\", start)\n",
    "print(\"End point:\", end)\n",
    "print(\"Finding Path...\")\n",
    "# final_path = find_path(start, end, all_whites_pos)\n",
    "flag, final_path = recorded_find_path(start, end, all_whites_pos, \"Forward\", False)\n",
    "\n",
    "##### Path not found #####\n",
    "if flag == False:\n",
    "    print(\"Not found!!!\")\n",
    "    print(final_path)\n",
    "    for i, j in final_path[0]:\n",
    "        new_img[i][j] = np.array([255, 255, 0])\n",
    "    \n",
    "    draw_img = draw_waypoint(waypoint_map, start, end, final_path[0])\n",
    "    rdp_img, _ = rdp_algorithm(draw_img, final_path[0])\n",
    "    cv2.imwrite(f\"test/not_found/test__{start}_{end}.png\", new_img)\n",
    "else:\n",
    "    print(\"found!!!\")\n",
    "    print(final_path[0])\n",
    "    print(\"Adding to the graph list...\")\n",
    "    \n",
    "    if reverse == \"y\":\n",
    "        fp = final_path[0][::-1]\n",
    "        fp = [fp]\n",
    "        add_path(G, fp, new_file_name)\n",
    "    else:\n",
    "        add_path(G, final_path, new_file_name)\n",
    "    \n",
    "    print(new_file_name, \"Store!\")\n",
    "    draw_img = draw_waypoint(waypoint_map, start, end, final_path[0])\n",
    "    rdp_img, _ = rdp_algorithm(draw_img, final_path[0])\n",
    "    cv2.imwrite(f\"test/found/test__{start}_{end}.png\", rdp_img)"
   ]
  },
  {
   "cell_type": "code",
   "execution_count": 4,
   "metadata": {},
   "outputs": [
    {
     "name": "stdout",
     "output_type": "stream",
     "text": [
      "[(621, 2364), (621, 2360), (621, 2348), (621, 2336), (620, 2324), (620, 2311), (620, 2295), (619, 2283), (619, 2271), (619, 2259), (618, 2247), (618, 2235), (618, 2223), (617, 2211), (617, 2199), (617, 2187), (617, 2175), (616, 2163), (616, 2151), (616, 2139), (615, 2127), (615, 2115), (615, 2103), (614, 2091), (614, 2079), (614, 2067), (614, 2055), (613, 2043), (613, 2031), (613, 2017), (612, 2007), (612, 2000), (612, 1987), (612, 1975), (611, 1963), (611, 1951), (611, 1939), (610, 1927), (610, 1915), (610, 1903), (609, 1891), (609, 1879), (609, 1867), (609, 1855), (608, 1843), (608, 1831), (608, 1819), (607, 1807), (607, 1795), (607, 1783), (606, 1771), (606, 1759), (606, 1747), (606, 1735), (605, 1723), (605, 1711), (605, 1699), (604, 1687), (604, 1679), (604, 1675), (604, 1663), (604, 1659), (603, 1647), (603, 1643), (603, 1631), (603, 1627), (603, 1615), (602, 1611), (602, 1597), (602, 1592), (603, 1578), (603, 1573), (605, 1559), (606, 1554), (608, 1540), (609, 1535), (612, 1521), (613, 1517), (617, 1503), (619, 1498), (624, 1485), (626, 1480), (627, 1476)]\n"
     ]
    }
   ],
   "source": [
    "############### Quick test for other start point with the same goal point\n",
    "start, end = (621, 2364), (627, 1476)\n",
    "\n",
    "fp = nx.shortest_path(G,  start,  end)\n",
    "draw_img = draw_waypoint(waypoint_map, start, end, fp)\n",
    "rdp_img, _ = rdp_algorithm(draw_img, fp)\n",
    "cv2.imwrite(f\"test/check__{start}_{end}.png\", rdp_img)\n",
    "print(fp)"
   ]
  },
  {
   "cell_type": "code",
   "execution_count": null,
   "metadata": {},
   "outputs": [],
   "source": []
  }
 ],
 "metadata": {
  "kernelspec": {
   "display_name": "Python 3",
   "language": "python",
   "name": "python3"
  },
  "language_info": {
   "codemirror_mode": {
    "name": "ipython",
    "version": 3
   },
   "file_extension": ".py",
   "mimetype": "text/x-python",
   "name": "python",
   "nbconvert_exporter": "python",
   "pygments_lexer": "ipython3",
   "version": "3.10.5"
  }
 },
 "nbformat": 4,
 "nbformat_minor": 2
}
