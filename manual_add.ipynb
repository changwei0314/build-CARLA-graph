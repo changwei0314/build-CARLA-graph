{
 "cells": [
  {
   "cell_type": "code",
   "execution_count": 451,
   "metadata": {},
   "outputs": [
    {
     "name": "stdout",
     "output_type": "stream",
     "text": [
      "graph_list/Town03\\3_graph_v105.adjlist\n"
     ]
    }
   ],
   "source": [
    "import networkx as nx\n",
    "import numpy as np\n",
    "import cv2\n",
    "import json\n",
    "import networkx as nx\n",
    "import re\n",
    "import argparse\n",
    "import glob\n",
    "import os\n",
    "\n",
    "from route_generator import iter_all_white_points, draw_waypoint, rdp_algorithm, recorded_find_path\n",
    "from add_path_to_graph import add_path, read_adjlist_with_tuples\n",
    "\n",
    "##################### Input Town number #####################\n",
    "\n",
    "town = int(input(\"Enter town number: 1, 2, 3, 7, or 10\"))\n",
    "\n",
    "if town == 10:\n",
    "    waypoint_map = cv2.imread(\"./waypoint_maps/Town10HD.png\", 1)\n",
    "    town_name = \"Town10HD\"\n",
    "else:\n",
    "    town_name = f\"Town0{town}\"\n",
    "    waypoint_map = cv2.imread(f\"./waypoint_maps/{town_name}.png\", 1)\n",
    "\n",
    "\n",
    "##################### Read latest graph list of the given town #####################\n",
    "\n",
    "list_of_files = glob.glob(f'graph_list/{town_name}/*') # * means all if need specific format then *.csv\n",
    "latest_file = max(list_of_files, key=os.path.getctime)\n",
    "\n",
    "if town == 10:\n",
    "    index = int(latest_file[30:-8])\n",
    "    new_file_name = latest_file[:30] + str(index+1) + latest_file[-8:]\n",
    "else:\n",
    "    index = int(latest_file[27:-8])\n",
    "    new_file_name = latest_file[:27] + str(index+1) + latest_file[-8:]\n",
    "\n",
    "G = read_adjlist_with_tuples(latest_file)\n",
    "\n",
    "print(latest_file)"
   ]
  },
  {
   "cell_type": "code",
   "execution_count": 452,
   "metadata": {},
   "outputs": [],
   "source": [
    "################# Change start, end point #################\n",
    "\n",
    "reverse = input(\"Do reverse search or not? (y for reverse search, other for original search)\\n\")\n",
    "\n",
    "start, end =(2740, 1212), (3098, 838) \n",
    "if reverse == \"y\":\n",
    "    start, end = end, start\n"
   ]
  },
  {
   "cell_type": "code",
   "execution_count": 453,
   "metadata": {},
   "outputs": [
    {
     "name": "stdout",
     "output_type": "stream",
     "text": [
      "Start point: (2740, 1212)\n",
      "End point: (3098, 838)\n",
      "Finding Path...\n"
     ]
    },
    {
     "name": "stderr",
     "output_type": "stream",
     "text": [
      "c:\\Users\\User\\Desktop\\build-CARLA-graph\\route_generator.py:193: RuntimeWarning: divide by zero encountered in longlong_scalars\n",
      "  win_m = (p[-2][1] - tp2[1]) / (p[-2][0] - tp2[0])\n"
     ]
    },
    {
     "name": "stdout",
     "output_type": "stream",
     "text": [
      "Get!!!\n",
      "found!!!\n",
      "[(2740, 1212), (2743, 1208), (2746, 1204), (2749, 1200), (2751, 1197), (2753, 1193), (2756, 1190), (2760, 1185), (2763, 1180), (2765, 1178), (2767, 1174), (2770, 1170), (2773, 1167), (2776, 1163), (2778, 1160), (2780, 1156), (2782, 1150), (2783, 1149), (2785, 1147), (2786, 1146), (2788, 1144), (2789, 1143), (2791, 1141), (2794, 1138), (2797, 1135), (2799, 1133), (2800, 1132), (2802, 1130), (2803, 1129), (2805, 1127), (2806, 1126), (2808, 1124), (2811, 1121), (2814, 1118), (2816, 1116), (2817, 1115), (2819, 1113), (2820, 1112), (2822, 1110), (2826, 1107), (2828, 1105), (2829, 1104), (2831, 1102), (2834, 1098), (2836, 1096), (2839, 1093), (2843, 1090), (2845, 1088), (2846, 1087), (2848, 1085), (2851, 1082), (2854, 1079), (2856, 1077), (2857, 1076), (2859, 1074), (2860, 1073), (2862, 1071), (2863, 1070), (2865, 1068), (2866, 1067), (2868, 1065), (2870, 1063), (2873, 1060), (2876, 1057), (2879, 1054), (2882, 1051), (2885, 1048), (2888, 1046), (2890, 1043), (2893, 1040), (2896, 1037), (2899, 1034), (2902, 1032), (2905, 1029), (2907, 1026), (2910, 1023), (2913, 1020), (2916, 1018), (2919, 1015), (2922, 1012), (2924, 1009), (2927, 1006), (2930, 1003), (2933, 1001), (2936, 998), (2939, 995), (2942, 992), (2944, 989), (2947, 987), (2950, 984), (2953, 981), (2956, 978), (2959, 975), (2961, 973), (2964, 970), (2967, 967), (2970, 964), (2973, 961), (2976, 958), (2979, 956), (2981, 953), (2984, 950), (2987, 947), (2990, 944), (2993, 942), (2996, 939), (2998, 936), (3001, 933), (3004, 930), (3007, 928), (3010, 925), (3013, 922), (3016, 919), (3018, 916), (3021, 913), (3024, 911), (3027, 908), (3030, 905), (3033, 902), (3035, 899), (3038, 897), (3041, 894), (3044, 891), (3047, 888), (3050, 885), (3052, 883), (3055, 880), (3058, 877), (3061, 874), (3064, 871), (3067, 868), (3070, 866), (3072, 863), (3075, 860), (3078, 857), (3081, 854), (3084, 852), (3087, 849), (3089, 846), (3092, 843), (3095, 840), (3098, 838)]\n",
      "Adding to the graph list...\n",
      "Add\n",
      "Add\n",
      "Add\n",
      "Add\n",
      "Add\n",
      "Add\n",
      "Add\n",
      "Add\n",
      "Add\n",
      "Add\n",
      "Add\n",
      "Add\n",
      "Add\n",
      "Add\n",
      "Add\n",
      "Add\n",
      "Add\n",
      "Add\n",
      "Add\n",
      "Add\n",
      "Add\n",
      "Add\n",
      "Add\n",
      "Add\n",
      "Add\n",
      "Add\n",
      "Add\n",
      "Add\n",
      "Add\n",
      "Add\n",
      "Add\n",
      "Add\n",
      "Add\n",
      "Add\n",
      "Add\n",
      "Add\n",
      "Add\n",
      "Add\n",
      "Add\n",
      "Add\n",
      "Add\n",
      "Add\n",
      "Add\n",
      "Add\n",
      "Add\n",
      "Add\n",
      "Add\n",
      "Add\n",
      "Add\n",
      "Add\n",
      "Add\n",
      "Add\n",
      "Add\n",
      "Add\n",
      "Add\n",
      "Add\n",
      "Add\n",
      "[(2740, 1212), (2743, 1208), (2751, 1197), (2760, 1185), (2767, 1174), (2776, 1163), (2782, 1150), (2785, 1147), (2794, 1138), (2802, 1130), (2811, 1121), (2819, 1113), (2828, 1105), (2837, 1096), (2845, 1088), (2854, 1079), (2862, 1071), (2873, 1060), (2882, 1051), (2890, 1043), (2899, 1034), (2907, 1026), (2916, 1018), (2924, 1009), (2933, 1001), (2942, 992), (2950, 984), (2959, 975), (2967, 967), (2976, 958), (2984, 950), (2993, 942), (3001, 933), (3010, 925), (3018, 916), (3027, 908), (3035, 899), (3044, 891), (3052, 883), (3061, 874), (3070, 866), (3078, 857), (3087, 849), (3095, 840), (3098, 838)]\n",
      "graph_list/Town03\\3_graph_v106.adjlist Store!\n"
     ]
    }
   ],
   "source": [
    "if start == (0,0) or end == (0,0):\n",
    "    print(\"Didn't change to your point!!!!!!!!\")\n",
    "\n",
    "all_whites_pos = iter_all_white_points(waypoint_map)\n",
    "\n",
    "new_img = waypoint_map.copy()\n",
    "new_img[start[0]][start[1]] = np.array([0, 0, 255])\n",
    "new_img[end[0]][end[1]] = np.array([0, 0, 255])\n",
    "\n",
    "cv2.circle(new_img, start[::-1], radius=5, color=(255, 0, 0), thickness=5)\n",
    "cv2.circle(new_img, end[::-1], radius=5, color=(0, 255, 0), thickness=5)\n",
    "\n",
    "\n",
    "print(\"Start point:\", start)\n",
    "print(\"End point:\", end)\n",
    "print(\"Finding Path...\")\n",
    "# final_path = find_path(start, end, all_whites_pos)\n",
    "flag, final_path = recorded_find_path(start, end, all_whites_pos, \"\", False)\n",
    "\n",
    "##### Path not found #####\n",
    "if flag == False:\n",
    "    print(\"Not found!!!\")\n",
    "    print(final_path)\n",
    "    for i, j in final_path[0]:\n",
    "        new_img[i][j] = np.array([255, 255, 0])\n",
    "    \n",
    "    draw_img = draw_waypoint(waypoint_map, start, end, final_path[0])\n",
    "    rdp_img, _ = rdp_algorithm(draw_img, final_path[0])\n",
    "    cv2.imwrite(f\"test/not_found/test__{start}_{end}.png\", new_img)\n",
    "else:\n",
    "    print(\"found!!!\")\n",
    "    print(final_path[0])\n",
    "    print(\"Adding to the graph list...\")\n",
    "    \n",
    "    if reverse == \"y\":\n",
    "        fp = final_path[0][::-1]\n",
    "        fp = [fp]\n",
    "        add_path(G, fp, new_file_name)\n",
    "    else:\n",
    "        add_path(G, final_path, new_file_name)\n",
    "    \n",
    "    print(new_file_name, \"Store!\")\n",
    "    draw_img = draw_waypoint(waypoint_map, start, end, final_path[0])\n",
    "    rdp_img, _ = rdp_algorithm(draw_img, final_path[0])\n",
    "    cv2.imwrite(f\"test/found/test__{start}_{end}.png\", rdp_img)"
   ]
  },
  {
   "cell_type": "code",
   "execution_count": 454,
   "metadata": {},
   "outputs": [
    {
     "name": "stdout",
     "output_type": "stream",
     "text": [
      "[(2825, 1336), (2820, 1336), (2809, 1336), (2797, 1336), (2784, 1336), (2778, 1335), (2760, 1336), (2750, 1330), (2738, 1325), (2728, 1320), (2719, 1312), (2708, 1302), (2710, 1297), (2709, 1288), (2707, 1284), (2719, 1277), (2730, 1270), (2744, 1263), (2738, 1257), (2723, 1251), (2731, 1244), (2740, 1236), (2748, 1224), (2736, 1219), (2740, 1212), (2743, 1208), (2751, 1197), (2760, 1185), (2767, 1174), (2776, 1163), (2782, 1150), (2785, 1147), (2794, 1138), (2802, 1130), (2811, 1121), (2819, 1113), (2828, 1105), (2837, 1096), (2845, 1088), (2854, 1079), (2862, 1071), (2873, 1060), (2882, 1051), (2890, 1043), (2899, 1034), (2907, 1026), (2916, 1018), (2924, 1009), (2933, 1001), (2942, 992), (2950, 984), (2959, 975), (2967, 967), (2976, 958), (2984, 950), (2993, 942), (3001, 933), (3010, 925), (3018, 916), (3027, 908), (3035, 899), (3044, 891), (3052, 883), (3061, 874), (3070, 866), (3078, 857), (3087, 849), (3095, 840), (3098, 838)]\n"
     ]
    }
   ],
   "source": [
    "############### Quick test for other start point with the same goal point\n",
    "start, end = (2825, 1336), (3098, 838)\n",
    "\n",
    "fp = nx.shortest_path(G,  start,  end)\n",
    "draw_img = draw_waypoint(waypoint_map, start, end, fp)\n",
    "rdp_img, _ = rdp_algorithm(draw_img, fp)\n",
    "cv2.imwrite(f\"test/check__{start}_{end}.png\", rdp_img)\n",
    "print(fp)"
   ]
  },
  {
   "cell_type": "code",
   "execution_count": null,
   "metadata": {},
   "outputs": [],
   "source": []
  }
 ],
 "metadata": {
  "kernelspec": {
   "display_name": "Python 3",
   "language": "python",
   "name": "python3"
  },
  "language_info": {
   "codemirror_mode": {
    "name": "ipython",
    "version": 3
   },
   "file_extension": ".py",
   "mimetype": "text/x-python",
   "name": "python",
   "nbconvert_exporter": "python",
   "pygments_lexer": "ipython3",
   "version": "3.10.5"
  }
 },
 "nbformat": 4,
 "nbformat_minor": 2
}
