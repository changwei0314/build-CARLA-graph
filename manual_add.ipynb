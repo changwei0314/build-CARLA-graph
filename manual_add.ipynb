{
 "cells": [
  {
   "cell_type": "code",
   "execution_count": 81,
   "metadata": {},
   "outputs": [
    {
     "name": "stdout",
     "output_type": "stream",
     "text": [
      "graph_list/Town03\\3_graph_v11.adjlist\n"
     ]
    }
   ],
   "source": [
    "import networkx as nx\n",
    "import numpy as np\n",
    "import cv2\n",
    "import json\n",
    "import networkx as nx\n",
    "import re\n",
    "import argparse\n",
    "import glob\n",
    "import os\n",
    "\n",
    "from route_generator import iter_all_white_points, draw_waypoint, rdp_algorithm, recorded_find_path\n",
    "from add_path_to_graph import add_path, read_adjlist_with_tuples\n",
    "\n",
    "##################### Input Town number #####################\n",
    "\n",
    "town = int(input(\"Enter town number: 1, 2, 3, or 10\"))\n",
    "\n",
    "if town == 10:\n",
    "    waypoint_map = cv2.imread(\"./waypoint_maps/Town10HD.png\", 1)\n",
    "    town_name = \"Town10HD\"\n",
    "else:\n",
    "    town_name = f\"Town0{town}\"\n",
    "    waypoint_map = cv2.imread(f\"./waypoint_maps/{town_name}.png\", 1)\n",
    "\n",
    "\n",
    "##################### Read latest graph list of the given town #####################\n",
    "\n",
    "list_of_files = glob.glob(f'graph_list/{town_name}/*') # * means all if need specific format then *.csv\n",
    "latest_file = max(list_of_files, key=os.path.getctime)\n",
    "\n",
    "if town == 10:\n",
    "    index = int(latest_file[30:-8])\n",
    "    new_file_name = latest_file[:30] + str(index+1) + latest_file[-8:]\n",
    "else:\n",
    "    index = int(latest_file[27:-8])\n",
    "    new_file_name = latest_file[:27] + str(index+1) + latest_file[-8:]\n",
    "\n",
    "G = read_adjlist_with_tuples(latest_file)\n",
    "print(latest_file)"
   ]
  },
  {
   "cell_type": "code",
   "execution_count": 82,
   "metadata": {},
   "outputs": [],
   "source": [
    "################# Change start, end point #################\n",
    "\n",
    "reverse = input(\"Do reverse search or not? (y for reverse search, other for original search)\\n\")\n",
    "\n",
    "start, end = (3968, 2093), (3997, 2755)\n",
    "\n",
    "if reverse == \"y\":\n",
    "    start, end = end, start\n"
   ]
  },
  {
   "cell_type": "code",
   "execution_count": 83,
   "metadata": {},
   "outputs": [
    {
     "name": "stdout",
     "output_type": "stream",
     "text": [
      "Start point: (3968, 2093)\n",
      "End point: (3997, 2755)\n",
      "Finding Path...\n",
      "Not found!!!\n",
      "[[(3968, 2093), (3964, 2098), (3968, 2101), (3969, 2105), (3969, 2109), (3969, 2113), (3969, 2117), (3969, 2121), (3969, 2125), (3970, 2128), (3969, 2129), (3969, 2133), (3969, 2137), (3969, 2141), (3970, 2145), (3970, 2149), (3970, 2153), (3970, 2157), (3970, 2161), (3970, 2165), (3971, 2169), (3970, 2173), (3973, 2178), (3972, 2182), (3971, 2186), (3974, 2192), (3973, 2196), (3973, 2200), (3972, 2205), (3972, 2209), (3971, 2213), (3971, 2217), (3971, 2221), (3970, 2225), (3970, 2230), (3970, 2234), (3969, 2237), (3969, 2238), (3969, 2239), (3969, 2241), (3969, 2242), (3969, 2245), (3969, 2246), (3969, 2249), (3969, 2250), (3969, 2253), (3969, 2254), (3969, 2257), (3969, 2258), (3969, 2261), (3969, 2262), (3969, 2265), (3969, 2266), (3969, 2269), (3969, 2270), (3969, 2273), (3969, 2274), (3969, 2277), (3969, 2278), (3969, 2281), (3969, 2282), (3969, 2285), (3969, 2286), (3969, 2289), (3969, 2290), (3968, 2293), (3968, 2294), (3968, 2297), (3968, 2298), (3968, 2301), (3968, 2302), (3968, 2304), (3968, 2305), (3968, 2306), (3968, 2308), (3968, 2309), (3968, 2310), (3968, 2312), (3968, 2313), (3968, 2314), (3968, 2316), (3968, 2317), (3968, 2318), (3968, 2320), (3968, 2321), (3968, 2322), (3968, 2324), (3968, 2325), (3968, 2326), (3968, 2330), (3968, 2334), (3968, 2338), (3968, 2342), (3968, 2346), (3968, 2350), (3968, 2354), (3968, 2358), (3968, 2362), (3967, 2366), (3967, 2370), (3967, 2374), (3967, 2378), (3967, 2382), (3967, 2386), (3967, 2390), (3967, 2394), (3967, 2398), (3967, 2402), (3967, 2406), (3967, 2410), (3967, 2414), (3967, 2418), (3967, 2422), (3967, 2426), (3967, 2430), (3966, 2434), (3966, 2438), (3966, 2442), (3966, 2446), (3966, 2450), (3966, 2454), (3966, 2458), (3966, 2462), (3966, 2466), (3966, 2470), (3966, 2474), (3966, 2478), (3966, 2482), (3966, 2486), (3966, 2490), (3966, 2494), (3966, 2498), (3966, 2502), (3965, 2506), (3965, 2510), (3965, 2514), (3965, 2518), (3965, 2522), (3965, 2526), (3965, 2530), (3965, 2534), (3965, 2538), (3965, 2542), (3965, 2546), (3965, 2550), (3965, 2554), (3965, 2558), (3965, 2562), (3965, 2566), (3965, 2570), (3964, 2574), (3964, 2578), (3964, 2582), (3964, 2586), (3964, 2590), (3964, 2594), (3964, 2598), (3964, 2602), (3964, 2606), (3964, 2610), (3964, 2614), (3964, 2618), (3964, 2622), (3964, 2626), (3964, 2630), (3964, 2634), (3964, 2638), (3964, 2642), (3963, 2646), (3963, 2650), (3963, 2654), (3963, 2658), (3963, 2662), (3963, 2666), (3963, 2670), (3963, 2674), (3963, 2678), (3963, 2682), (3963, 2686), (3963, 2690), (3963, 2694), (3963, 2698), (3963, 2702), (3963, 2706), (3963, 2710), (3962, 2714), (3962, 2718), (3962, 2722), (3962, 2726), (3962, 2730), (3962, 2734), (3962, 2738), (3962, 2742), (3962, 2746), (3962, 2750), (3962, 2754)]]\n"
     ]
    }
   ],
   "source": [
    "if start == (0,0) or end == (0,0):\n",
    "    print(\"Didn't change to your point!!!!!!!!\")\n",
    "\n",
    "all_whites_pos = iter_all_white_points(waypoint_map)\n",
    "\n",
    "new_img = waypoint_map.copy()\n",
    "new_img[start[0]][start[1]] = np.array([0, 0, 255])\n",
    "new_img[end[0]][end[1]] = np.array([0, 0, 255])\n",
    "\n",
    "cv2.circle(new_img, start[::-1], radius=5, color=(255, 0, 0), thickness=5)\n",
    "cv2.circle(new_img, end[::-1], radius=5, color=(0, 255, 0), thickness=5)\n",
    "\n",
    "\n",
    "print(\"Start point:\", start)\n",
    "print(\"End point:\", end)\n",
    "print(\"Finding Path...\")\n",
    "# final_path = find_path(start, end, all_whites_pos)\n",
    "flag, final_path = recorded_find_path(start, end, all_whites_pos, \"Forward\", True)\n",
    "\n",
    "##### Path not found #####\n",
    "if flag == False:\n",
    "    print(\"Not found!!!\")\n",
    "    print(final_path)\n",
    "    for i, j in final_path[0]:\n",
    "        new_img[i][j] = np.array([255, 255, 0])\n",
    "    \n",
    "    draw_img = draw_waypoint(waypoint_map, start, end, final_path[0])\n",
    "    rdp_img, _ = rdp_algorithm(draw_img, final_path[0])\n",
    "    cv2.imwrite(f\"test/not_found/test__{start}_{end}.png\", new_img)\n",
    "else:\n",
    "    print(\"found!!!\")\n",
    "    print(final_path[0])\n",
    "    print(\"Adding to the graph list...\")\n",
    "    \n",
    "    if reverse == \"y\":\n",
    "        fp = final_path[0][::-1]\n",
    "        fp = [fp]\n",
    "        add_path(G, fp, new_file_name)\n",
    "    else:\n",
    "        add_path(G, final_path, new_file_name)\n",
    "    \n",
    "    print(new_file_name, \"Store!\")\n",
    "    draw_img = draw_waypoint(waypoint_map, start, end, final_path[0])\n",
    "    rdp_img, _ = rdp_algorithm(draw_img, final_path[0])\n",
    "    cv2.imwrite(f\"test/found/test__{start}_{end}.png\", rdp_img)"
   ]
  },
  {
   "cell_type": "code",
   "execution_count": 71,
   "metadata": {},
   "outputs": [
    {
     "name": "stdout",
     "output_type": "stream",
     "text": [
      "[(3664, 2052), (3668, 2052), (3672, 2052), (3708, 2053), (3744, 2053), (3851, 2053), (3964, 2090), (3968, 2093), (3969, 2105), (3969, 2117), (3970, 2128), (3969, 2141), (4004, 2230), (4004, 2247), (4004, 2263), (4004, 2281), (4003, 2343), (4001, 2451), (4000, 2559), (3998, 2667), (3997, 2755)]\n"
     ]
    }
   ],
   "source": [
    "############### Quick test for other start point with the same goal point\n",
    "start, end = (3664, 2052), (3997, 2755)\n",
    "\n",
    "fp = nx.shortest_path(G,  start,  end)\n",
    "print(fp)"
   ]
  },
  {
   "cell_type": "code",
   "execution_count": null,
   "metadata": {},
   "outputs": [],
   "source": []
  }
 ],
 "metadata": {
  "kernelspec": {
   "display_name": "Python 3",
   "language": "python",
   "name": "python3"
  },
  "language_info": {
   "codemirror_mode": {
    "name": "ipython",
    "version": 3
   },
   "file_extension": ".py",
   "mimetype": "text/x-python",
   "name": "python",
   "nbconvert_exporter": "python",
   "pygments_lexer": "ipython3",
   "version": "3.10.5"
  }
 },
 "nbformat": 4,
 "nbformat_minor": 2
}
